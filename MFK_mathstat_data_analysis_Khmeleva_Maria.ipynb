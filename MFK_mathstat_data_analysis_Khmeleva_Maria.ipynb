{
 "cells": [
  {
   "cell_type": "markdown",
   "id": "0e768739",
   "metadata": {},
   "source": [
    "# Отчет по исследованию данных о совершенных внутренних авиарейсах из аэропортов Нью-Йорка в 2013 году"
   ]
  },
  {
   "cell_type": "markdown",
   "id": "39026e86",
   "metadata": {},
   "source": [
    "*Выполнила студентка 127мб группы физического факультета Хмелева Мария*"
   ]
  },
  {
   "cell_type": "markdown",
   "id": "5c5bc31e",
   "metadata": {},
   "source": [
    "**Задача:** Исследовать статистику задержек авиарейсов на основе датасета, содержащего информацию о совершенных внутренних авиарейсов из аэропортов Нью-Йорка в 2013 году. "
   ]
  },
  {
   "cell_type": "markdown",
   "id": "3c1e68b1",
   "metadata": {},
   "source": [
    "Загрузим используемый датасет:"
   ]
  },
  {
   "cell_type": "code",
   "execution_count": 1,
   "id": "509a65a0",
   "metadata": {},
   "outputs": [],
   "source": [
    "%matplotlib inline\n",
    "import numpy as np\n",
    "import pandas as pd\n",
    "import seaborn as sns\n",
    "import matplotlib.pyplot as plt\n",
    "import scipy.stats as stats"
   ]
  },
  {
   "cell_type": "code",
   "execution_count": 2,
   "id": "93fc5809",
   "metadata": {},
   "outputs": [],
   "source": [
    "data = pd.read_csv('flights_NY.csv')"
   ]
  },
  {
   "cell_type": "code",
   "execution_count": 3,
   "id": "2cb6bf44",
   "metadata": {},
   "outputs": [
    {
     "data": {
      "text/html": [
       "<div>\n",
       "<style scoped>\n",
       "    .dataframe tbody tr th:only-of-type {\n",
       "        vertical-align: middle;\n",
       "    }\n",
       "\n",
       "    .dataframe tbody tr th {\n",
       "        vertical-align: top;\n",
       "    }\n",
       "\n",
       "    .dataframe thead th {\n",
       "        text-align: right;\n",
       "    }\n",
       "</style>\n",
       "<table border=\"1\" class=\"dataframe\">\n",
       "  <thead>\n",
       "    <tr style=\"text-align: right;\">\n",
       "      <th></th>\n",
       "      <th>year</th>\n",
       "      <th>month</th>\n",
       "      <th>day</th>\n",
       "      <th>dep_time</th>\n",
       "      <th>dep_delay</th>\n",
       "      <th>arr_time</th>\n",
       "      <th>arr_delay</th>\n",
       "      <th>carrier</th>\n",
       "      <th>tailnum</th>\n",
       "      <th>flight</th>\n",
       "      <th>origin</th>\n",
       "      <th>dest</th>\n",
       "      <th>air_time</th>\n",
       "      <th>distance</th>\n",
       "    </tr>\n",
       "  </thead>\n",
       "  <tbody>\n",
       "    <tr>\n",
       "      <th>0</th>\n",
       "      <td>2013</td>\n",
       "      <td>1</td>\n",
       "      <td>1</td>\n",
       "      <td>517.0</td>\n",
       "      <td>2.0</td>\n",
       "      <td>830.0</td>\n",
       "      <td>11.0</td>\n",
       "      <td>UA</td>\n",
       "      <td>N14228</td>\n",
       "      <td>1545</td>\n",
       "      <td>EWR</td>\n",
       "      <td>IAH</td>\n",
       "      <td>227.0</td>\n",
       "      <td>1400</td>\n",
       "    </tr>\n",
       "    <tr>\n",
       "      <th>1</th>\n",
       "      <td>2013</td>\n",
       "      <td>1</td>\n",
       "      <td>1</td>\n",
       "      <td>533.0</td>\n",
       "      <td>4.0</td>\n",
       "      <td>850.0</td>\n",
       "      <td>20.0</td>\n",
       "      <td>UA</td>\n",
       "      <td>N24211</td>\n",
       "      <td>1714</td>\n",
       "      <td>LGA</td>\n",
       "      <td>IAH</td>\n",
       "      <td>227.0</td>\n",
       "      <td>1416</td>\n",
       "    </tr>\n",
       "    <tr>\n",
       "      <th>2</th>\n",
       "      <td>2013</td>\n",
       "      <td>1</td>\n",
       "      <td>1</td>\n",
       "      <td>542.0</td>\n",
       "      <td>2.0</td>\n",
       "      <td>923.0</td>\n",
       "      <td>33.0</td>\n",
       "      <td>AA</td>\n",
       "      <td>N619AA</td>\n",
       "      <td>1141</td>\n",
       "      <td>JFK</td>\n",
       "      <td>MIA</td>\n",
       "      <td>160.0</td>\n",
       "      <td>1089</td>\n",
       "    </tr>\n",
       "    <tr>\n",
       "      <th>3</th>\n",
       "      <td>2013</td>\n",
       "      <td>1</td>\n",
       "      <td>1</td>\n",
       "      <td>544.0</td>\n",
       "      <td>-1.0</td>\n",
       "      <td>1004.0</td>\n",
       "      <td>-18.0</td>\n",
       "      <td>B6</td>\n",
       "      <td>N804JB</td>\n",
       "      <td>725</td>\n",
       "      <td>JFK</td>\n",
       "      <td>BQN</td>\n",
       "      <td>183.0</td>\n",
       "      <td>1576</td>\n",
       "    </tr>\n",
       "    <tr>\n",
       "      <th>4</th>\n",
       "      <td>2013</td>\n",
       "      <td>1</td>\n",
       "      <td>1</td>\n",
       "      <td>554.0</td>\n",
       "      <td>-6.0</td>\n",
       "      <td>812.0</td>\n",
       "      <td>-25.0</td>\n",
       "      <td>DL</td>\n",
       "      <td>N668DN</td>\n",
       "      <td>461</td>\n",
       "      <td>LGA</td>\n",
       "      <td>ATL</td>\n",
       "      <td>116.0</td>\n",
       "      <td>762</td>\n",
       "    </tr>\n",
       "  </tbody>\n",
       "</table>\n",
       "</div>"
      ],
      "text/plain": [
       "   year  month  day  dep_time  dep_delay  arr_time  arr_delay carrier tailnum  \\\n",
       "0  2013      1    1     517.0        2.0     830.0       11.0      UA  N14228   \n",
       "1  2013      1    1     533.0        4.0     850.0       20.0      UA  N24211   \n",
       "2  2013      1    1     542.0        2.0     923.0       33.0      AA  N619AA   \n",
       "3  2013      1    1     544.0       -1.0    1004.0      -18.0      B6  N804JB   \n",
       "4  2013      1    1     554.0       -6.0     812.0      -25.0      DL  N668DN   \n",
       "\n",
       "   flight origin dest  air_time  distance  \n",
       "0    1545    EWR  IAH     227.0      1400  \n",
       "1    1714    LGA  IAH     227.0      1416  \n",
       "2    1141    JFK  MIA     160.0      1089  \n",
       "3     725    JFK  BQN     183.0      1576  \n",
       "4     461    LGA  ATL     116.0       762  "
      ]
     },
     "execution_count": 3,
     "metadata": {},
     "output_type": "execute_result"
    }
   ],
   "source": [
    "data.head()"
   ]
  },
  {
   "cell_type": "markdown",
   "id": "071919d4",
   "metadata": {},
   "source": [
    "**Описание датасета:**\n",
    "* **year**, **month**, **day**: date of departure;\n",
    "* **dep_time**, **arr_time**: actual departure and arrival times (format HHMM or HMM), local timezone;\n",
    "* **dep_delay**, **arr_delay**: departure and arrival delays, in minutes. Negative times represent early departures/arrivals;\n",
    "* **carrier**: two letter carrier abbreviation;\n",
    "* **flight**: flight number;\n",
    "* **tailnum**: plane tail number;\n",
    "* **origin**, **dest**: origin and destination airports;\n",
    "* **air_time:** amount of time spent in the air, in minutes;\n",
    "* **distance**: distance between origin and destination airports.\n",
    "\n",
    "Аббревиатуры аэропортов Нью-Йорка:\n",
    "* JFK – John F. Kennedy International Airport;\n",
    "* LGA – LaGuardia Airport;\n",
    "* EWR – Newark International Airport.\n"
   ]
  },
  {
   "cell_type": "markdown",
   "id": "72e0bc88",
   "metadata": {},
   "source": [
    "### 1. Пропущенные значения в датасете"
   ]
  },
  {
   "cell_type": "markdown",
   "id": "ac863ed1",
   "metadata": {},
   "source": [
    "Найдем пропущенные значения в колонках:"
   ]
  },
  {
   "cell_type": "code",
   "execution_count": 4,
   "id": "697ee04f",
   "metadata": {},
   "outputs": [
    {
     "name": "stdout",
     "output_type": "stream",
     "text": [
      "<class 'pandas.core.frame.DataFrame'>\n",
      "RangeIndex: 336776 entries, 0 to 336775\n",
      "Data columns (total 14 columns):\n",
      " #   Column     Non-Null Count   Dtype  \n",
      "---  ------     --------------   -----  \n",
      " 0   year       336776 non-null  int64  \n",
      " 1   month      336776 non-null  int64  \n",
      " 2   day        336776 non-null  int64  \n",
      " 3   dep_time   328521 non-null  float64\n",
      " 4   dep_delay  328521 non-null  float64\n",
      " 5   arr_time   328063 non-null  float64\n",
      " 6   arr_delay  327346 non-null  float64\n",
      " 7   carrier    336776 non-null  object \n",
      " 8   tailnum    334264 non-null  object \n",
      " 9   flight     336776 non-null  int64  \n",
      " 10  origin     336776 non-null  object \n",
      " 11  dest       336776 non-null  object \n",
      " 12  air_time   327346 non-null  float64\n",
      " 13  distance   336776 non-null  int64  \n",
      "dtypes: float64(5), int64(5), object(4)\n",
      "memory usage: 36.0+ MB\n"
     ]
    }
   ],
   "source": [
    "data.info()"
   ]
  },
  {
   "cell_type": "code",
   "execution_count": 5,
   "id": "3b425e1e",
   "metadata": {},
   "outputs": [
    {
     "data": {
      "text/plain": [
       "(336776, 14)"
      ]
     },
     "execution_count": 5,
     "metadata": {},
     "output_type": "execute_result"
    }
   ],
   "source": [
    "data.shape"
   ]
  },
  {
   "cell_type": "code",
   "execution_count": 6,
   "id": "61ddaf03",
   "metadata": {},
   "outputs": [],
   "source": [
    "data = data.replace('None', np.nan)"
   ]
  },
  {
   "cell_type": "code",
   "execution_count": 7,
   "id": "85925d0c",
   "metadata": {},
   "outputs": [
    {
     "data": {
      "text/plain": [
       "year            0\n",
       "month           0\n",
       "day             0\n",
       "dep_time     8255\n",
       "dep_delay    8255\n",
       "arr_time     8713\n",
       "arr_delay    9430\n",
       "carrier         0\n",
       "tailnum      2512\n",
       "flight          0\n",
       "origin          0\n",
       "dest            0\n",
       "air_time     9430\n",
       "distance        0\n",
       "dtype: int64"
      ]
     },
     "execution_count": 7,
     "metadata": {},
     "output_type": "execute_result"
    }
   ],
   "source": [
    "data.isnull().sum()"
   ]
  },
  {
   "cell_type": "markdown",
   "id": "a701f5c4",
   "metadata": {},
   "source": [
    "Таким образом, пропущенные значения есть в колонкаx: dep_time, dep_delay, arr_time, arr_delay, tailnum и air_time."
   ]
  },
  {
   "cell_type": "markdown",
   "id": "027e5ef3",
   "metadata": {},
   "source": [
    "Подсчитаем количсетво строк, в которых есть хотя бы одно пропущенное значение:"
   ]
  },
  {
   "cell_type": "code",
   "execution_count": 8,
   "id": "f195725d",
   "metadata": {},
   "outputs": [
    {
     "data": {
      "text/plain": [
       "0         0\n",
       "1         0\n",
       "2         0\n",
       "3         0\n",
       "4         0\n",
       "         ..\n",
       "336771    6\n",
       "336772    6\n",
       "336773    5\n",
       "336774    5\n",
       "336775    5\n",
       "Length: 336776, dtype: int64"
      ]
     },
     "execution_count": 8,
     "metadata": {},
     "output_type": "execute_result"
    }
   ],
   "source": [
    "data.isnull().sum(axis=1)"
   ]
  },
  {
   "cell_type": "code",
   "execution_count": 9,
   "id": "a0b5c8a3",
   "metadata": {},
   "outputs": [
    {
     "data": {
      "text/plain": [
       "9430"
      ]
     },
     "execution_count": 9,
     "metadata": {},
     "output_type": "execute_result"
    }
   ],
   "source": [
    "data.shape[0]-data.dropna().shape[0]"
   ]
  },
  {
   "cell_type": "markdown",
   "id": "bbd70501",
   "metadata": {},
   "source": [
    "Получилось, что всего есть 9430 строчек, в которых пропущено хотя бы одно значение."
   ]
  },
  {
   "cell_type": "markdown",
   "id": "f205a799",
   "metadata": {},
   "source": [
    "Посмотрим, есть ли особенности в строчках, в которых есть хотя бы одно пропущенное значение:"
   ]
  },
  {
   "cell_type": "code",
   "execution_count": 10,
   "id": "244181ff",
   "metadata": {},
   "outputs": [],
   "source": [
    "missing_labels = list(set(data.index) - set(data.dropna().index))"
   ]
  },
  {
   "cell_type": "code",
   "execution_count": 11,
   "id": "aa25c6f9",
   "metadata": {},
   "outputs": [],
   "source": [
    "missing_labels = sorted(missing_labels)"
   ]
  },
  {
   "cell_type": "code",
   "execution_count": 12,
   "id": "93b55266",
   "metadata": {},
   "outputs": [],
   "source": [
    "data_nan = data.iloc[missing_labels,:]"
   ]
  },
  {
   "cell_type": "code",
   "execution_count": 13,
   "id": "13d624a3",
   "metadata": {},
   "outputs": [
    {
     "data": {
      "text/html": [
       "<div>\n",
       "<style scoped>\n",
       "    .dataframe tbody tr th:only-of-type {\n",
       "        vertical-align: middle;\n",
       "    }\n",
       "\n",
       "    .dataframe tbody tr th {\n",
       "        vertical-align: top;\n",
       "    }\n",
       "\n",
       "    .dataframe thead th {\n",
       "        text-align: right;\n",
       "    }\n",
       "</style>\n",
       "<table border=\"1\" class=\"dataframe\">\n",
       "  <thead>\n",
       "    <tr style=\"text-align: right;\">\n",
       "      <th></th>\n",
       "      <th>year</th>\n",
       "      <th>month</th>\n",
       "      <th>day</th>\n",
       "      <th>dep_time</th>\n",
       "      <th>dep_delay</th>\n",
       "      <th>arr_time</th>\n",
       "      <th>arr_delay</th>\n",
       "      <th>carrier</th>\n",
       "      <th>tailnum</th>\n",
       "      <th>flight</th>\n",
       "      <th>origin</th>\n",
       "      <th>dest</th>\n",
       "      <th>air_time</th>\n",
       "      <th>distance</th>\n",
       "    </tr>\n",
       "  </thead>\n",
       "  <tbody>\n",
       "    <tr>\n",
       "      <th>471</th>\n",
       "      <td>2013</td>\n",
       "      <td>1</td>\n",
       "      <td>1</td>\n",
       "      <td>1525.0</td>\n",
       "      <td>-5.0</td>\n",
       "      <td>1934.0</td>\n",
       "      <td>NaN</td>\n",
       "      <td>MQ</td>\n",
       "      <td>N719MQ</td>\n",
       "      <td>4525</td>\n",
       "      <td>LGA</td>\n",
       "      <td>XNA</td>\n",
       "      <td>NaN</td>\n",
       "      <td>1147</td>\n",
       "    </tr>\n",
       "    <tr>\n",
       "      <th>477</th>\n",
       "      <td>2013</td>\n",
       "      <td>1</td>\n",
       "      <td>1</td>\n",
       "      <td>1528.0</td>\n",
       "      <td>29.0</td>\n",
       "      <td>2002.0</td>\n",
       "      <td>NaN</td>\n",
       "      <td>EV</td>\n",
       "      <td>N17108</td>\n",
       "      <td>3806</td>\n",
       "      <td>EWR</td>\n",
       "      <td>STL</td>\n",
       "      <td>NaN</td>\n",
       "      <td>872</td>\n",
       "    </tr>\n",
       "    <tr>\n",
       "      <th>615</th>\n",
       "      <td>2013</td>\n",
       "      <td>1</td>\n",
       "      <td>1</td>\n",
       "      <td>1740.0</td>\n",
       "      <td>-5.0</td>\n",
       "      <td>2158.0</td>\n",
       "      <td>NaN</td>\n",
       "      <td>MQ</td>\n",
       "      <td>N739MQ</td>\n",
       "      <td>4413</td>\n",
       "      <td>LGA</td>\n",
       "      <td>XNA</td>\n",
       "      <td>NaN</td>\n",
       "      <td>1147</td>\n",
       "    </tr>\n",
       "    <tr>\n",
       "      <th>643</th>\n",
       "      <td>2013</td>\n",
       "      <td>1</td>\n",
       "      <td>1</td>\n",
       "      <td>1807.0</td>\n",
       "      <td>29.0</td>\n",
       "      <td>2251.0</td>\n",
       "      <td>NaN</td>\n",
       "      <td>UA</td>\n",
       "      <td>N31412</td>\n",
       "      <td>1228</td>\n",
       "      <td>EWR</td>\n",
       "      <td>SAN</td>\n",
       "      <td>NaN</td>\n",
       "      <td>2425</td>\n",
       "    </tr>\n",
       "    <tr>\n",
       "      <th>725</th>\n",
       "      <td>2013</td>\n",
       "      <td>1</td>\n",
       "      <td>1</td>\n",
       "      <td>1939.0</td>\n",
       "      <td>59.0</td>\n",
       "      <td>29.0</td>\n",
       "      <td>NaN</td>\n",
       "      <td>9E</td>\n",
       "      <td>N905XJ</td>\n",
       "      <td>3325</td>\n",
       "      <td>JFK</td>\n",
       "      <td>DFW</td>\n",
       "      <td>NaN</td>\n",
       "      <td>1391</td>\n",
       "    </tr>\n",
       "    <tr>\n",
       "      <th>...</th>\n",
       "      <td>...</td>\n",
       "      <td>...</td>\n",
       "      <td>...</td>\n",
       "      <td>...</td>\n",
       "      <td>...</td>\n",
       "      <td>...</td>\n",
       "      <td>...</td>\n",
       "      <td>...</td>\n",
       "      <td>...</td>\n",
       "      <td>...</td>\n",
       "      <td>...</td>\n",
       "      <td>...</td>\n",
       "      <td>...</td>\n",
       "      <td>...</td>\n",
       "    </tr>\n",
       "    <tr>\n",
       "      <th>336771</th>\n",
       "      <td>2013</td>\n",
       "      <td>9</td>\n",
       "      <td>30</td>\n",
       "      <td>NaN</td>\n",
       "      <td>NaN</td>\n",
       "      <td>NaN</td>\n",
       "      <td>NaN</td>\n",
       "      <td>9E</td>\n",
       "      <td>NaN</td>\n",
       "      <td>3393</td>\n",
       "      <td>JFK</td>\n",
       "      <td>DCA</td>\n",
       "      <td>NaN</td>\n",
       "      <td>213</td>\n",
       "    </tr>\n",
       "    <tr>\n",
       "      <th>336772</th>\n",
       "      <td>2013</td>\n",
       "      <td>9</td>\n",
       "      <td>30</td>\n",
       "      <td>NaN</td>\n",
       "      <td>NaN</td>\n",
       "      <td>NaN</td>\n",
       "      <td>NaN</td>\n",
       "      <td>9E</td>\n",
       "      <td>NaN</td>\n",
       "      <td>3525</td>\n",
       "      <td>LGA</td>\n",
       "      <td>SYR</td>\n",
       "      <td>NaN</td>\n",
       "      <td>198</td>\n",
       "    </tr>\n",
       "    <tr>\n",
       "      <th>336773</th>\n",
       "      <td>2013</td>\n",
       "      <td>9</td>\n",
       "      <td>30</td>\n",
       "      <td>NaN</td>\n",
       "      <td>NaN</td>\n",
       "      <td>NaN</td>\n",
       "      <td>NaN</td>\n",
       "      <td>MQ</td>\n",
       "      <td>N535MQ</td>\n",
       "      <td>3461</td>\n",
       "      <td>LGA</td>\n",
       "      <td>BNA</td>\n",
       "      <td>NaN</td>\n",
       "      <td>764</td>\n",
       "    </tr>\n",
       "    <tr>\n",
       "      <th>336774</th>\n",
       "      <td>2013</td>\n",
       "      <td>9</td>\n",
       "      <td>30</td>\n",
       "      <td>NaN</td>\n",
       "      <td>NaN</td>\n",
       "      <td>NaN</td>\n",
       "      <td>NaN</td>\n",
       "      <td>MQ</td>\n",
       "      <td>N511MQ</td>\n",
       "      <td>3572</td>\n",
       "      <td>LGA</td>\n",
       "      <td>CLE</td>\n",
       "      <td>NaN</td>\n",
       "      <td>419</td>\n",
       "    </tr>\n",
       "    <tr>\n",
       "      <th>336775</th>\n",
       "      <td>2013</td>\n",
       "      <td>9</td>\n",
       "      <td>30</td>\n",
       "      <td>NaN</td>\n",
       "      <td>NaN</td>\n",
       "      <td>NaN</td>\n",
       "      <td>NaN</td>\n",
       "      <td>MQ</td>\n",
       "      <td>N839MQ</td>\n",
       "      <td>3531</td>\n",
       "      <td>LGA</td>\n",
       "      <td>RDU</td>\n",
       "      <td>NaN</td>\n",
       "      <td>431</td>\n",
       "    </tr>\n",
       "  </tbody>\n",
       "</table>\n",
       "<p>9430 rows × 14 columns</p>\n",
       "</div>"
      ],
      "text/plain": [
       "        year  month  day  dep_time  dep_delay  arr_time  arr_delay carrier  \\\n",
       "471     2013      1    1    1525.0       -5.0    1934.0        NaN      MQ   \n",
       "477     2013      1    1    1528.0       29.0    2002.0        NaN      EV   \n",
       "615     2013      1    1    1740.0       -5.0    2158.0        NaN      MQ   \n",
       "643     2013      1    1    1807.0       29.0    2251.0        NaN      UA   \n",
       "725     2013      1    1    1939.0       59.0      29.0        NaN      9E   \n",
       "...      ...    ...  ...       ...        ...       ...        ...     ...   \n",
       "336771  2013      9   30       NaN        NaN       NaN        NaN      9E   \n",
       "336772  2013      9   30       NaN        NaN       NaN        NaN      9E   \n",
       "336773  2013      9   30       NaN        NaN       NaN        NaN      MQ   \n",
       "336774  2013      9   30       NaN        NaN       NaN        NaN      MQ   \n",
       "336775  2013      9   30       NaN        NaN       NaN        NaN      MQ   \n",
       "\n",
       "       tailnum  flight origin dest  air_time  distance  \n",
       "471     N719MQ    4525    LGA  XNA       NaN      1147  \n",
       "477     N17108    3806    EWR  STL       NaN       872  \n",
       "615     N739MQ    4413    LGA  XNA       NaN      1147  \n",
       "643     N31412    1228    EWR  SAN       NaN      2425  \n",
       "725     N905XJ    3325    JFK  DFW       NaN      1391  \n",
       "...        ...     ...    ...  ...       ...       ...  \n",
       "336771     NaN    3393    JFK  DCA       NaN       213  \n",
       "336772     NaN    3525    LGA  SYR       NaN       198  \n",
       "336773  N535MQ    3461    LGA  BNA       NaN       764  \n",
       "336774  N511MQ    3572    LGA  CLE       NaN       419  \n",
       "336775  N839MQ    3531    LGA  RDU       NaN       431  \n",
       "\n",
       "[9430 rows x 14 columns]"
      ]
     },
     "execution_count": 13,
     "metadata": {},
     "output_type": "execute_result"
    }
   ],
   "source": [
    "data_nan"
   ]
  },
  {
   "cell_type": "code",
   "execution_count": 14,
   "id": "3867062a",
   "metadata": {},
   "outputs": [
    {
     "data": {
      "text/plain": [
       "array([nan])"
      ]
     },
     "execution_count": 14,
     "metadata": {},
     "output_type": "execute_result"
    }
   ],
   "source": [
    "data_nan['arr_delay'].unique()"
   ]
  },
  {
   "cell_type": "code",
   "execution_count": 15,
   "id": "6cd8f4ea",
   "metadata": {},
   "outputs": [
    {
     "data": {
      "text/plain": [
       "array([nan])"
      ]
     },
     "execution_count": 15,
     "metadata": {},
     "output_type": "execute_result"
    }
   ],
   "source": [
    "data_nan['air_time'].unique()"
   ]
  },
  {
   "cell_type": "markdown",
   "id": "3e4c7649",
   "metadata": {},
   "source": [
    "Можно заметить, что в рейсах с пропущенными значениями\n",
    "есть некоторая особенность: для всех этих рейсов пропущены значения в категориях arr_delay и air_time."
   ]
  },
  {
   "cell_type": "markdown",
   "id": "9aaa11a2",
   "metadata": {},
   "source": [
    "Удалим из исходной таблицы те строки, в которых есть хотя бы одно пропущенное значение:"
   ]
  },
  {
   "cell_type": "code",
   "execution_count": 16,
   "id": "5a598a91",
   "metadata": {},
   "outputs": [],
   "source": [
    "data = data.dropna()"
   ]
  },
  {
   "cell_type": "code",
   "execution_count": 17,
   "id": "d6035812",
   "metadata": {},
   "outputs": [
    {
     "data": {
      "text/plain": [
       "(327346, 14)"
      ]
     },
     "execution_count": 17,
     "metadata": {},
     "output_type": "execute_result"
    }
   ],
   "source": [
    "data.shape"
   ]
  },
  {
   "cell_type": "markdown",
   "id": "bd885025",
   "metadata": {},
   "source": [
    "### 2. Гистограммы времени задержки вылета и прилета"
   ]
  },
  {
   "cell_type": "markdown",
   "id": "449f07be",
   "metadata": {},
   "source": [
    "Построим в одних осях нормированные гистограммы времени задержки вылета и прилета:"
   ]
  },
  {
   "cell_type": "code",
   "execution_count": 18,
   "id": "6e807a19",
   "metadata": {},
   "outputs": [
    {
     "data": {
      "text/plain": [
       "<matplotlib.legend.Legend at 0x255b68252e0>"
      ]
     },
     "execution_count": 18,
     "metadata": {},
     "output_type": "execute_result"
    },
    {
     "data": {
      "image/png": "[encoded data removed]",
      "text/plain": [
       "<Figure size 432x288 with 1 Axes>"
      ]
     },
     "metadata": {
      "needs_background": "light"
     },
     "output_type": "display_data"
    }
   ],
   "source": [
    "plt.hist(data['dep_delay'],density=True,bins=70,label='Вылет',histtype='step')\n",
    "plt.hist(data['arr_delay'],density=True,bins=70,label='Прилет',histtype='step')\n",
    "plt.xlabel(\"Время задержки, мин\")\n",
    "plt.ylabel(\"Нормированнное количество рейсов\")\n",
    "plt.legend()"
   ]
  },
  {
   "cell_type": "markdown",
   "id": "d747a7be",
   "metadata": {},
   "source": [
    "Судя по гистограмме, данные в основном лежат в диапазоне до 200 мин, но есть выбросы с большим временем задержки. Посчитаем, сколько есть выбросов в определенных диапазонах значений:"
   ]
  },
  {
   "cell_type": "code",
   "execution_count": 19,
   "id": "ae43fc64",
   "metadata": {},
   "outputs": [
    {
     "name": "stdout",
     "output_type": "stream",
     "text": [
      "Количество выбросов для времени задержки вылетов в диапазонах:\n",
      "После 1200 мин:  1\n",
      "От 1000 до 1200 мин:  4\n",
      "От 800 до 1000 мин:  15\n",
      "От 600 до 800 мин:  19\n",
      "От 400 до 600 мин:  93\n",
      "От 200 до 400 мин:  2727\n",
      "От 150 до 200 мин:  3332\n",
      "От 100 до 150 мин:  7219\n",
      "До -20 мин:  240\n"
     ]
    }
   ],
   "source": [
    "print(\"Количество выбросов для времени задержки вылетов в диапазонах:\")\n",
    "\n",
    "counter=0\n",
    "for x in data['dep_delay']:\n",
    "    if x>=1200:\n",
    "        counter+=1\n",
    "print(\"После 1200 мин: \", counter)\n",
    "\n",
    "counter=0\n",
    "for x in data['dep_delay']:\n",
    "    if 1000<=x<1200:\n",
    "        counter+=1\n",
    "print(\"От 1000 до 1200 мин: \", counter)\n",
    "\n",
    "counter=0\n",
    "for x in data['dep_delay']:\n",
    "    if 800<=x<1000:\n",
    "        counter+=1\n",
    "print(\"От 800 до 1000 мин: \",counter)\n",
    "\n",
    "counter=0\n",
    "for x in data['dep_delay']:\n",
    "    if 600<=x<800:\n",
    "        counter+=1\n",
    "print(\"От 600 до 800 мин: \",counter)\n",
    "\n",
    "counter=0\n",
    "for x in data['dep_delay']:\n",
    "    if 400<=x<600:\n",
    "        counter+=1\n",
    "print(\"От 400 до 600 мин: \",counter)\n",
    "\n",
    "counter=0\n",
    "for x in data['dep_delay']:\n",
    "    if 200<=x<400:\n",
    "        counter+=1\n",
    "print(\"От 200 до 400 мин: \",counter)\n",
    "\n",
    "counter=0\n",
    "for x in data['dep_delay']:\n",
    "    if 150<=x<200:\n",
    "        counter+=1\n",
    "print(\"От 150 до 200 мин: \",counter)\n",
    "\n",
    "counter=0\n",
    "for x in data['dep_delay']:\n",
    "    if 100<=x<150:\n",
    "        counter+=1\n",
    "print(\"От 100 до 150 мин: \",counter)\n",
    "\n",
    "\n",
    "counter=0\n",
    "for x in data['arr_delay']:\n",
    "    if x<= -60:\n",
    "        counter+=1\n",
    "print(\"До -20 мин: \",counter)"
   ]
  },
  {
   "cell_type": "code",
   "execution_count": 20,
   "id": "a28745bd",
   "metadata": {},
   "outputs": [
    {
     "name": "stdout",
     "output_type": "stream",
     "text": [
      "Количество выбросов для времени задержки прилетов в диапазонах:\n",
      "После 1200 мин:  1\n",
      "От 1000 до 1200 мин:  3\n",
      "От 800 до 1000 мин:  15\n",
      "От 600 до 800 мин:  20\n",
      "От 400 до 600 мин:  90\n",
      "От 300 до 400 мин:  497\n",
      "От 200 до 300 мин:  2206\n",
      "От 150 до 200 мин:  3433\n",
      "От 100 до 150 мин:  7894\n",
      "До -60 мин:  240\n"
     ]
    }
   ],
   "source": [
    "print(\"Количество выбросов для времени задержки прилетов в диапазонах:\")\n",
    "\n",
    "counter=0\n",
    "for x in data['arr_delay']:\n",
    "    if x>=1200:\n",
    "        counter+=1\n",
    "print(\"После 1200 мин: \", counter)\n",
    "\n",
    "counter=0\n",
    "for x in data['arr_delay']:\n",
    "    if 1000<=x<1200:\n",
    "        counter+=1\n",
    "print(\"От 1000 до 1200 мин: \", counter)\n",
    "\n",
    "counter=0\n",
    "for x in data['arr_delay']:\n",
    "    if 800<=x<1000:\n",
    "        counter+=1\n",
    "print(\"От 800 до 1000 мин: \",counter)\n",
    "\n",
    "counter=0\n",
    "for x in data['arr_delay']:\n",
    "    if 600<=x<800:\n",
    "        counter+=1\n",
    "print(\"От 600 до 800 мин: \",counter)\n",
    "\n",
    "counter=0\n",
    "for x in data['arr_delay']:\n",
    "    if 400<=x<600:\n",
    "        counter+=1\n",
    "print(\"От 400 до 600 мин: \",counter)\n",
    "\n",
    "counter=0\n",
    "for x in data['arr_delay']:\n",
    "    if 300<=x<400:\n",
    "        counter+=1\n",
    "print(\"От 300 до 400 мин: \",counter)\n",
    "\n",
    "counter=0\n",
    "for x in data['arr_delay']:\n",
    "    if 200<=x<300:\n",
    "        counter+=1\n",
    "print(\"От 200 до 300 мин: \",counter)\n",
    "\n",
    "counter=0\n",
    "for x in data['arr_delay']:\n",
    "    if 150<=x<200:\n",
    "        counter+=1\n",
    "print(\"От 150 до 200 мин: \",counter)\n",
    "\n",
    "counter=0\n",
    "for x in data['arr_delay']:\n",
    "    if 100<=x<150:\n",
    "        counter+=1\n",
    "print(\"От 100 до 150 мин: \",counter)\n",
    "\n",
    "counter=0\n",
    "for x in data['arr_delay']:\n",
    "    if x<= -60:\n",
    "        counter+=1\n",
    "print(\"До -60 мин: \",counter)"
   ]
  },
  {
   "cell_type": "markdown",
   "id": "2158b355",
   "metadata": {},
   "source": [
    "На основании полученных значений ограничим диапазон построения гистограмм:"
   ]
  },
  {
   "cell_type": "code",
   "execution_count": 21,
   "id": "2f19d51e",
   "metadata": {},
   "outputs": [],
   "source": [
    "dep_delay = (data['dep_delay']<100)&(data['dep_delay']>-20)\n",
    "arr_delay = (data['arr_delay']<100)&(data['arr_delay']>-60)"
   ]
  },
  {
   "cell_type": "code",
   "execution_count": 22,
   "id": "322bfdf3",
   "metadata": {},
   "outputs": [
    {
     "data": {
      "text/plain": [
       "<matplotlib.legend.Legend at 0x255b6ae9d30>"
      ]
     },
     "execution_count": 22,
     "metadata": {},
     "output_type": "execute_result"
    },
    {
     "data": {
      "image/png": "[encoded data removed]",
      "text/plain": [
       "<Figure size 576x432 with 1 Axes>"
      ]
     },
     "metadata": {
      "needs_background": "light"
     },
     "output_type": "display_data"
    }
   ],
   "source": [
    "plt.figure(figsize=(8, 6))\n",
    "plt.hist(data[dep_delay]['dep_delay'],density=True,bins=40,label='Вылет',histtype='step')\n",
    "plt.hist(data[arr_delay]['arr_delay'],density=True,bins=40,label='Прилет',histtype='step')\n",
    "plt.xlabel(\"Время задержки, мин\")\n",
    "plt.ylabel(\"Нормированнное количество рейсов\")\n",
    "plt.title(\"Распределение рейсов по времени задержки их прилета и вылета\")\n",
    "plt.legend()"
   ]
  },
  {
   "cell_type": "markdown",
   "id": "2eb66054",
   "metadata": {},
   "source": [
    "На основании полученных гистограмм видно, что они имеют не симметричный вид с большим правым хвостом. \n",
    "Чтобы убедиться в этом, построим QQ-plot для времен задержек вылета и прилета с помощью функции `scipy.stats.probplot`:"
   ]
  },
  {
   "cell_type": "code",
   "execution_count": 23,
   "id": "d58fe133",
   "metadata": {},
   "outputs": [
    {
     "data": {
      "image/png": "[encoded data removed]",
      "text/plain": [
       "<Figure size 720x360 with 2 Axes>"
      ]
     },
     "metadata": {
      "needs_background": "light"
     },
     "output_type": "display_data"
    }
   ],
   "source": [
    "plt.figure(figsize=(10,5))\n",
    "ax = plt.gca()\n",
    "\n",
    "ax = plt.subplot(1,2,1)\n",
    "stats.probplot(data[dep_delay]['dep_delay'],plot=ax)\n",
    "plt.title('QQ-plot для времени задержки вылета')\n",
    "\n",
    "ax = plt.subplot(1,2,2)\n",
    "stats.probplot(data[arr_delay]['arr_delay'],plot=ax)\n",
    "plt.title('QQ-plot для времени задержки прилета')\n",
    "\n",
    "plt.tight_layout()"
   ]
  },
  {
   "cell_type": "markdown",
   "id": "4449564e",
   "metadata": {},
   "source": [
    "Видно, что исследуемые данные не являются нормально распределенными."
   ]
  },
  {
   "cell_type": "markdown",
   "id": "b4802b16",
   "metadata": {},
   "source": [
    "### 3. Статистические характеристики времени задержки вылета и прилета"
   ]
  },
  {
   "cell_type": "markdown",
   "id": "dd19ebc0",
   "metadata": {},
   "source": [
    "Оценим среднее значение, медиану и величину стандартного отклонения для времени задержки вылета и времени задержки прилета. Для оценки использовались данные без выбросов."
   ]
  },
  {
   "cell_type": "code",
   "execution_count": 24,
   "id": "ed565166",
   "metadata": {},
   "outputs": [
    {
     "data": {
      "text/html": [
       "<div>\n",
       "<style scoped>\n",
       "    .dataframe tbody tr th:only-of-type {\n",
       "        vertical-align: middle;\n",
       "    }\n",
       "\n",
       "    .dataframe tbody tr th {\n",
       "        vertical-align: top;\n",
       "    }\n",
       "\n",
       "    .dataframe thead th {\n",
       "        text-align: right;\n",
       "    }\n",
       "</style>\n",
       "<table border=\"1\" class=\"dataframe\">\n",
       "  <thead>\n",
       "    <tr style=\"text-align: right;\">\n",
       "      <th></th>\n",
       "      <th>dep_delay</th>\n",
       "      <th>arr_delay</th>\n",
       "    </tr>\n",
       "  </thead>\n",
       "  <tbody>\n",
       "    <tr>\n",
       "      <th>count</th>\n",
       "      <td>313858.000000</td>\n",
       "      <td>312947.000000</td>\n",
       "    </tr>\n",
       "    <tr>\n",
       "      <th>mean</th>\n",
       "      <td>6.054639</td>\n",
       "      <td>-0.117033</td>\n",
       "    </tr>\n",
       "    <tr>\n",
       "      <th>std</th>\n",
       "      <td>20.424939</td>\n",
       "      <td>26.449126</td>\n",
       "    </tr>\n",
       "    <tr>\n",
       "      <th>min</th>\n",
       "      <td>-19.000000</td>\n",
       "      <td>-59.000000</td>\n",
       "    </tr>\n",
       "    <tr>\n",
       "      <th>25%</th>\n",
       "      <td>-5.000000</td>\n",
       "      <td>-17.000000</td>\n",
       "    </tr>\n",
       "    <tr>\n",
       "      <th>50%</th>\n",
       "      <td>-2.000000</td>\n",
       "      <td>-6.000000</td>\n",
       "    </tr>\n",
       "    <tr>\n",
       "      <th>75%</th>\n",
       "      <td>7.000000</td>\n",
       "      <td>10.000000</td>\n",
       "    </tr>\n",
       "    <tr>\n",
       "      <th>max</th>\n",
       "      <td>99.000000</td>\n",
       "      <td>99.000000</td>\n",
       "    </tr>\n",
       "  </tbody>\n",
       "</table>\n",
       "</div>"
      ],
      "text/plain": [
       "           dep_delay      arr_delay\n",
       "count  313858.000000  312947.000000\n",
       "mean        6.054639      -0.117033\n",
       "std        20.424939      26.449126\n",
       "min       -19.000000     -59.000000\n",
       "25%        -5.000000     -17.000000\n",
       "50%        -2.000000      -6.000000\n",
       "75%         7.000000      10.000000\n",
       "max        99.000000      99.000000"
      ]
     },
     "execution_count": 24,
     "metadata": {},
     "output_type": "execute_result"
    }
   ],
   "source": [
    "pd.DataFrame({\"dep_delay\":data[dep_delay]['dep_delay'].describe(),\n",
    "              \"arr_delay\":data[arr_delay]['arr_delay'].describe()})"
   ]
  },
  {
   "cell_type": "markdown",
   "id": "a7395ff1",
   "metadata": {},
   "source": [
    "Можно заметить, что:\n",
    "* средняя задержка вылета больше, чем прилета;\n",
    "* медианное значение прилета и вылета отрицательные, то есть рейсы в основном прилетают/улетают раньше срока;\n",
    "* средние значения не совпадают с медианным, как раз таки на гистограммах был длинный \"правый хвост\" с большими положительными временами задержек;\n",
    "* достаточно большие ошибки определения времен задержек."
   ]
  },
  {
   "cell_type": "markdown",
   "id": "d8d9b877",
   "metadata": {},
   "source": [
    "### 4. Средняя задержка вылета для каждой авиакомпании"
   ]
  },
  {
   "cell_type": "markdown",
   "id": "795674e4",
   "metadata": {},
   "source": [
    "Посмотрим, какие вообще есть авиакомпании в исследуемом датасете:"
   ]
  },
  {
   "cell_type": "code",
   "execution_count": 25,
   "id": "7403ed4e",
   "metadata": {},
   "outputs": [
    {
     "data": {
      "text/plain": [
       "array(['UA', 'AA', 'B6', 'DL', 'EV', 'MQ', 'US', 'WN', 'VX', 'FL', 'AS',\n",
       "       '9E', 'F9', 'HA', 'YV', 'OO'], dtype=object)"
      ]
     },
     "execution_count": 25,
     "metadata": {},
     "output_type": "execute_result"
    }
   ],
   "source": [
    "data['carrier'].unique()"
   ]
  },
  {
   "cell_type": "markdown",
   "id": "d65eba6b",
   "metadata": {},
   "source": [
    "Разобьем данные задержек вылета по всем авиакомпаниям и расчитаем среднее значение задержки вылета для каждой из них:"
   ]
  },
  {
   "cell_type": "code",
   "execution_count": 26,
   "id": "40eb8ba3",
   "metadata": {},
   "outputs": [
    {
     "name": "stdout",
     "output_type": "stream",
     "text": [
      "Средние времена задержки вылета для каждой авиакомпании:\n",
      "UA : 6.850878448491788 , больше средней задержки по всей выборке\n",
      "AA : 3.3806614295412665 , больше средней задержки по всей выборке\n",
      "B6 : 6.5904529899657796 , больше средней задержки по всей выборке\n",
      "DL : 3.818818948734588 , больше средней задержки по всей выборке\n",
      "EV : 9.90900889560255 , больше средней задержки по всей выборке\n",
      "MQ : 5.0072487780631265 , больше средней задержки по всей выборке\n",
      "US : 0.9950766705984923 , больше средней задержки по всей выборке\n",
      "WN : 9.634095271331356 , больше средней задержки по всей выборке\n",
      "VX : 4.801514221403724 , больше средней задержки по всей выборке\n",
      "FL : 7.888182122530967 , больше средней задержки по всей выборке\n",
      "AS : 1.5947521865889214 , больше средней задержки по всей выборке\n",
      "9E : 7.042490301126917 , больше средней задержки по всей выборке\n",
      "F9 : 8.9703125 , больше средней задержки по всей выборке\n",
      "HA : -1.7664670658682635 , меньше средней задержки по всей выборке\n",
      "YV : 9.09197651663405 , больше средней задержки по всей выборке\n",
      "OO : 2.962962962962963 , больше средней задержки по всей выборке\n"
     ]
    }
   ],
   "source": [
    "print('Средние времена задержки вылета для каждой авиакомпании:')\n",
    "\n",
    "for x in data['carrier'].unique():\n",
    "    globals()['dep_delay%s' % x] = data[(data['carrier']==x) & dep_delay]['dep_delay']\n",
    "    if np.mean(globals()['dep_delay%s' % x]) >= np.mean(dep_delay):\n",
    "        print(x,':', np.mean(globals()['dep_delay%s' % x]), ', больше средней задержки по всей выборке')\n",
    "    else:\n",
    "        print(x,':', np.mean(globals()['dep_delay%s' % x]), ', меньше средней задержки по всей выборке')"
   ]
  },
  {
   "cell_type": "markdown",
   "id": "f94f110d",
   "metadata": {},
   "source": [
    "Для каждой авиакомпании оценим 95% доверительный интервал для выборочного среднего с учетом неизвестной дисперии при большой выборке (n>30) с помощью функции `stats.norm.interval` из библиотеки `scipy.stats`:"
   ]
  },
  {
   "cell_type": "code",
   "execution_count": 27,
   "id": "c61fb509",
   "metadata": {},
   "outputs": [
    {
     "name": "stdout",
     "output_type": "stream",
     "text": [
      "95%-доверительные интервалы времени задержки вылета для каждой авиакомпании:\n",
      "UA: (6.69, 7.01)\n",
      "AA: (3.18, 3.59)\n",
      "B6: (6.41, 6.77)\n",
      "DL: (3.66, 3.98)\n",
      "EV: (9.69, 10.13)\n",
      "MQ: (4.73, 5.28)\n",
      "US: (0.76, 1.23)\n",
      "WN: (9.27, 10.00)\n",
      "VX: (4.32, 5.28)\n",
      "FL: (7.14, 8.63)\n",
      "AS: (0.27, 2.92)\n",
      "9E: (6.70, 7.39)\n",
      "F9: (7.28, 10.66)\n",
      "HA: (-3.00, -0.53)\n",
      "YV: (6.79, 11.40)\n",
      "OO: (-6.22, 12.15)\n"
     ]
    }
   ],
   "source": [
    "print('95%-доверительные интервалы времени задержки вылета для каждой авиакомпании:')\n",
    "\n",
    "for x in data['carrier'].unique():\n",
    "    dov_interval = stats.norm.interval(alpha=0.95,loc=np.mean(globals()['dep_delay%s' % x]),\n",
    "                                       scale=stats.sem(globals()['dep_delay%s' % x]))\n",
    "    print(f'{x}: ({dov_interval[0]:.2f}, {dov_interval[1]:.2f})')"
   ]
  },
  {
   "cell_type": "markdown",
   "id": "b94bd3f0",
   "metadata": {},
   "source": [
    "Визуализируем средние значения задержки вылета и доверительный интервал для каждой авиакомпании на графике:"
   ]
  },
  {
   "cell_type": "code",
   "execution_count": 28,
   "id": "d9ed4fa2",
   "metadata": {},
   "outputs": [
    {
     "data": {
      "text/plain": [
       "Text(0.5, 1.0, 'Средние значения и 95%-доверительные интервалы\\n для времени задержек вылета рейсов для каждой авиакомпании.')"
      ]
     },
     "execution_count": 28,
     "metadata": {},
     "output_type": "execute_result"
    },
    {
     "data": {
      "image/png": "[encoded data removed]",
      "text/plain": [
       "<Figure size 576x432 with 1 Axes>"
      ]
     },
     "metadata": {
      "needs_background": "light"
     },
     "output_type": "display_data"
    }
   ],
   "source": [
    "x = []\n",
    "y = []\n",
    "yerr = []\n",
    "med = []\n",
    "\n",
    "for i in data['carrier'].unique():\n",
    "    means = np.mean(globals()['dep_delay%s' % i])\n",
    "    dov_interval = stats.norm.interval(alpha=0.95,loc=np.mean(globals()['dep_delay%s' % i]),\n",
    "                                       scale=stats.sem(globals()['dep_delay%s' % i]))\n",
    "    yerrs = (dov_interval[1]-dov_interval[0])/2\n",
    "    x.append(i)\n",
    "    y.append(means)\n",
    "    yerr.append(yerrs)   \n",
    "\n",
    "plt.figure(figsize=(8, 6))\n",
    "plt.errorbar(x, y, yerr=yerr, marker='o', linestyle='none',\n",
    "             ecolor='k', elinewidth=0.8, capsize=4, capthick=1)\n",
    "plt.xlabel('Авиакомпании')\n",
    "plt.ylabel('Время задержки вылета, мин')\n",
    "plt.title('Средние значения и 95%-доверительные интервалы\\n для времени задержек вылета рейсов для каждой авиакомпании.')"
   ]
  },
  {
   "cell_type": "markdown",
   "id": "c315bab8",
   "metadata": {},
   "source": [
    "Можно заметить, что для авиакомпании \"ОО\" доверительный интервал получился самый большой, предположительно из-за большого разброса данных и большого значения стандартоного выборочного отклонения."
   ]
  },
  {
   "cell_type": "markdown",
   "id": "6d88837d",
   "metadata": {},
   "source": [
    "### 5. Проверка гипотезы о равенстве средних времен задержки для авиакомпаний American Airlines и Delta Airlines"
   ]
  },
  {
   "cell_type": "markdown",
   "id": "a902d82a",
   "metadata": {},
   "source": [
    "Проверим, является ли значимым различие в среднем  времени задержки вылета для авиакомпаний American Airlines (AA) и Delta Airlines (DL)."
   ]
  },
  {
   "cell_type": "markdown",
   "id": "c70989a7",
   "metadata": {},
   "source": [
    "Для этого вначале посмотрим на распределение времен задержек вылета для этих авиакомпаний и проверим их на нормальность  с помощью построения QQ-plot:"
   ]
  },
  {
   "cell_type": "code",
   "execution_count": 29,
   "id": "ab7844b0",
   "metadata": {},
   "outputs": [
    {
     "data": {
      "image/png": "[encoded data removed]",
      "text/plain": [
       "<Figure size 1008x360 with 3 Axes>"
      ]
     },
     "metadata": {
      "needs_background": "light"
     },
     "output_type": "display_data"
    }
   ],
   "source": [
    "plt.figure(figsize=(14, 5))\n",
    "\n",
    "plt.subplot(1,3,1)\n",
    "plt.hist(data[(data['carrier']=='AA')& dep_delay]['dep_delay'],density=True,bins=40,\n",
    "         label='American Airlines',histtype='step')\n",
    "plt.hist(data[(data['carrier']=='DL')& dep_delay]['dep_delay'],density=True,bins=40,\n",
    "         label='Delta Airlines',histtype='step')\n",
    "plt.xlabel(\"Время задержки, мин\")\n",
    "plt.ylabel(\"Нормированнное количество рейсов\")\n",
    "plt.title(\"Распределение рейсов по времени задержки вылета\\n для авиакомпаний American Airlines и Delta Airlines\")\n",
    "plt.legend()\n",
    "\n",
    "ax = plt.gca()\n",
    "\n",
    "ax = plt.subplot(1,3,2)\n",
    "stats.probplot(data[(data['carrier']=='AA')& dep_delay]['dep_delay'],plot=ax)\n",
    "plt.title('QQ-plot для времени задержки времени вылета\\n авиакомпании American Airlines')\n",
    "\n",
    "ax = plt.subplot(1,3,3)\n",
    "stats.probplot(data[(data['carrier']=='DL')& dep_delay]['dep_delay'],plot=ax)\n",
    "plt.title('QQ-plot для времени задержки времени вылета\\n авиакомпании Delta Airlines')\n",
    "\n",
    "plt.tight_layout()"
   ]
  },
  {
   "cell_type": "markdown",
   "id": "943784c7",
   "metadata": {},
   "source": [
    "По полученным графикам можно сделать вывод, что распределения времен задержек для авиакомпаний AA и DL также не является нормальным, есть отклонение от симметрии."
   ]
  },
  {
   "cell_type": "markdown",
   "id": "e9793c1c",
   "metadata": {},
   "source": [
    "Несмотря на ассиметричность данных попробуем использовать двувыборочный критерий Стьюдента для несвязных выборок для проверки гипотезы о равенстве средних двух выборок.\n",
    "\n",
    "Сформулируем гипотезы:<br>\n",
    "$H_0: \\mu_1 = \\mu_2$<br>\n",
    "$H_1: \\mu_1 \\ne \\mu_2$<br>\n",
    "\n",
    "Для несвязных выборок используем функцию `scipy.stats.ttest_ind`."
   ]
  },
  {
   "cell_type": "markdown",
   "id": "6e12a4e2",
   "metadata": {},
   "source": [
    "Для использования этого критерия необходимо будет проверить, равны ли дисперсии у двух выборок.<br>\n",
    "Это можно проверить с помощью критерия Левене [`scipy.stats.levene`], который проверяет гипотезу о равенстве дисперсий двух выборок:<br>\n",
    "$H_0: \\sigma_1 = \\sigma_2$<br>\n",
    "$H_1:\\sigma_1 \\neq \\sigma_2$<br>"
   ]
  },
  {
   "cell_type": "code",
   "execution_count": 30,
   "id": "4c85efe3",
   "metadata": {},
   "outputs": [],
   "source": [
    "dep_delay_AA = data[(data['carrier']=='AA')& dep_delay]['dep_delay']\n",
    "dep_delay_DL = data[(data['carrier']=='DL')& dep_delay]['dep_delay']"
   ]
  },
  {
   "cell_type": "code",
   "execution_count": 31,
   "id": "d7abbddc",
   "metadata": {},
   "outputs": [
    {
     "data": {
      "text/plain": [
       "LeveneResult(statistic=17.235922808824938, pvalue=3.304886228086167e-05)"
      ]
     },
     "execution_count": 31,
     "metadata": {},
     "output_type": "execute_result"
    }
   ],
   "source": [
    "stats.levene(dep_delay_AA,dep_delay_DL)"
   ]
  },
  {
   "cell_type": "markdown",
   "id": "cb53dd6e",
   "metadata": {},
   "source": [
    "Судя по тесту, p-value << 0.01, то есть мы отвергаем нулевую гипотезу о равенстве дисперсих в этих выборках по уровню значимости 0.01 и считаем, что дисперсии в выборках не равны."
   ]
  },
  {
   "cell_type": "markdown",
   "id": "2e40e8a2",
   "metadata": {},
   "source": [
    "Теперь применим двухвыборочный критерий Стьюдента для несвязных выборок:"
   ]
  },
  {
   "cell_type": "code",
   "execution_count": 32,
   "id": "7fc72f3a",
   "metadata": {},
   "outputs": [
    {
     "data": {
      "text/plain": [
       "Ttest_indResult(statistic=-3.318629444776977, pvalue=0.0009051112033196085)"
      ]
     },
     "execution_count": 32,
     "metadata": {},
     "output_type": "execute_result"
    }
   ],
   "source": [
    "stats.ttest_ind(dep_delay_AA,dep_delay_DL,equal_var=False)"
   ]
  },
  {
   "cell_type": "markdown",
   "id": "9e740bf8",
   "metadata": {},
   "source": [
    "$p-value = 0.0009 < 0.001$"
   ]
  },
  {
   "cell_type": "markdown",
   "id": "e3bfec73",
   "metadata": {},
   "source": [
    "Судя по значению p-value мы можем отвергунть гипотезу о равенстве средних времен задержи вылета для авиакомпаний АА и DL по уровню значимости $\\alpha=0.001\\$. Следовательно различие в среднем времени задержки для этих авиакомпаний является значимым."
   ]
  },
  {
   "cell_type": "markdown",
   "id": "cf7956d9",
   "metadata": {},
   "source": [
    "### 6. Cравнение аэропортов вылета с точки зрения статистики задержек вылетов"
   ]
  },
  {
   "cell_type": "markdown",
   "id": "c34efe4c",
   "metadata": {},
   "source": [
    "Сравним между собой аэропорты вылета с точки зрения статистики задержек вылетов и выясним, являются ли эти различия статистически значимыми."
   ]
  },
  {
   "cell_type": "markdown",
   "id": "1d415ced",
   "metadata": {},
   "source": [
    "Посмотрим, какие аэропорты вылета есть в датасете:"
   ]
  },
  {
   "cell_type": "code",
   "execution_count": 33,
   "id": "a33b6eed",
   "metadata": {},
   "outputs": [
    {
     "data": {
      "text/plain": [
       "array(['EWR', 'LGA', 'JFK'], dtype=object)"
      ]
     },
     "execution_count": 33,
     "metadata": {},
     "output_type": "execute_result"
    }
   ],
   "source": [
    "data['origin'].unique()"
   ]
  },
  {
   "cell_type": "code",
   "execution_count": 34,
   "id": "b5e21b09",
   "metadata": {},
   "outputs": [],
   "source": [
    "dep_delay_EWR = data[(data['origin']=='EWR')& dep_delay]['dep_delay']\n",
    "dep_delay_LGA = data[(data['origin']=='LGA')& dep_delay]['dep_delay']\n",
    "dep_delay_JFK = data[(data['origin']=='JFK')& dep_delay]['dep_delay']"
   ]
  },
  {
   "cell_type": "code",
   "execution_count": 35,
   "id": "58ab25bc",
   "metadata": {},
   "outputs": [
    {
     "data": {
      "text/plain": [
       "<matplotlib.legend.Legend at 0x255b67f2160>"
      ]
     },
     "execution_count": 35,
     "metadata": {},
     "output_type": "execute_result"
    },
    {
     "data": {
      "image/png": "[encoded data removed]",
      "text/plain": [
       "<Figure size 648x504 with 1 Axes>"
      ]
     },
     "metadata": {
      "needs_background": "light"
     },
     "output_type": "display_data"
    }
   ],
   "source": [
    "plt.figure(figsize=(9, 7))\n",
    "plt.hist(dep_delay_EWR,density=True,bins=40,label='EWR',histtype='step')\n",
    "plt.hist(dep_delay_LGA,density=True,bins=40,label='LGA',histtype='step')\n",
    "plt.hist(dep_delay_JFK,density=True,bins=40,label='JFK',histtype='step')\n",
    "plt.xlabel(\"Время задержки, мин\")\n",
    "plt.ylabel(\"Нормированнное количество рейсов\")\n",
    "plt.title(\"Распределение рейсов из разных аэропортов вылета по времени задержки вылета\")\n",
    "plt.legend()"
   ]
  },
  {
   "cell_type": "markdown",
   "id": "a25e442b",
   "metadata": {},
   "source": [
    "Проверим, равны ли средние значения подвыборок для каждой пары аэропортов. Для этого будем использовать двухвыборочный критерий Стьюдента для несвязных выборок и критерий Левене для проверки равенства дисперсий (как в прошлом пункте)."
   ]
  },
  {
   "cell_type": "code",
   "execution_count": 36,
   "id": "9abb7c76",
   "metadata": {},
   "outputs": [
    {
     "data": {
      "text/plain": [
       "LeveneResult(statistic=480.99649209220615, pvalue=1.6952613346450063e-106)"
      ]
     },
     "execution_count": 36,
     "metadata": {},
     "output_type": "execute_result"
    }
   ],
   "source": [
    "stats.levene(dep_delay_EWR,dep_delay_JFK)"
   ]
  },
  {
   "cell_type": "code",
   "execution_count": 37,
   "id": "222d3bfc",
   "metadata": {},
   "outputs": [
    {
     "data": {
      "text/plain": [
       "Ttest_indResult(statistic=21.356534929534828, pvalue=4.314467847326151e-101)"
      ]
     },
     "execution_count": 37,
     "metadata": {},
     "output_type": "execute_result"
    }
   ],
   "source": [
    "stats.ttest_ind(dep_delay_EWR,dep_delay_JFK,equal_var=False)"
   ]
  },
  {
   "cell_type": "code",
   "execution_count": 38,
   "id": "9eb88962",
   "metadata": {},
   "outputs": [
    {
     "data": {
      "text/plain": [
       "LeveneResult(statistic=613.9984494797176, pvalue=2.3723240862918173e-135)"
      ]
     },
     "execution_count": 38,
     "metadata": {},
     "output_type": "execute_result"
    }
   ],
   "source": [
    "stats.levene(dep_delay_EWR,dep_delay_LGA)"
   ]
  },
  {
   "cell_type": "code",
   "execution_count": 39,
   "id": "237dc526",
   "metadata": {},
   "outputs": [
    {
     "data": {
      "text/plain": [
       "Ttest_indResult(statistic=41.85680540734963, pvalue=0.0)"
      ]
     },
     "execution_count": 39,
     "metadata": {},
     "output_type": "execute_result"
    }
   ],
   "source": [
    "stats.ttest_ind(dep_delay_EWR,dep_delay_LGA,equal_var=False)"
   ]
  },
  {
   "cell_type": "code",
   "execution_count": 40,
   "id": "3702a110",
   "metadata": {},
   "outputs": [
    {
     "data": {
      "text/plain": [
       "LeveneResult(statistic=9.873234981810894, pvalue=0.0016772459039651692)"
      ]
     },
     "execution_count": 40,
     "metadata": {},
     "output_type": "execute_result"
    }
   ],
   "source": [
    "stats.levene(dep_delay_LGA,dep_delay_JFK)"
   ]
  },
  {
   "cell_type": "code",
   "execution_count": 41,
   "id": "81551b52",
   "metadata": {},
   "outputs": [
    {
     "data": {
      "text/plain": [
       "Ttest_indResult(statistic=-21.312149430218888, pvalue=1.1323561666158004e-100)"
      ]
     },
     "execution_count": 41,
     "metadata": {},
     "output_type": "execute_result"
    }
   ],
   "source": [
    "stats.ttest_ind(dep_delay_LGA,dep_delay_JFK,equal_var=False)"
   ]
  },
  {
   "cell_type": "markdown",
   "id": "97f4be89",
   "metadata": {},
   "source": [
    "Судя по всему, в рамках попарного рассмотрения выборок нет выборок с равными значениями средних и дисперсий времени задержек вылетов. То есть статистические различия в выборках существенны."
   ]
  },
  {
   "cell_type": "markdown",
   "id": "7ab93c6d",
   "metadata": {},
   "source": [
    "Попробуем применить непараметрический тест Манна-Уитни для несвязных выборок, так как распределения наших выборок отличаются от нормальных. Этим тестом мы проверим, равны ли медианы в двух выборках:"
   ]
  },
  {
   "cell_type": "code",
   "execution_count": 42,
   "id": "18c0c4b1",
   "metadata": {},
   "outputs": [
    {
     "data": {
      "text/plain": [
       "MannwhitneyuResult(statistic=6143413511.0, pvalue=2.094360192146815e-88)"
      ]
     },
     "execution_count": 42,
     "metadata": {},
     "output_type": "execute_result"
    }
   ],
   "source": [
    "stats.mannwhitneyu(dep_delay_EWR,dep_delay_JFK)"
   ]
  },
  {
   "cell_type": "code",
   "execution_count": 43,
   "id": "ee197302",
   "metadata": {},
   "outputs": [
    {
     "data": {
      "text/plain": [
       "MannwhitneyuResult(statistic=6405511125.5, pvalue=0.0)"
      ]
     },
     "execution_count": 43,
     "metadata": {},
     "output_type": "execute_result"
    }
   ],
   "source": [
    "stats.mannwhitneyu(dep_delay_EWR,dep_delay_LGA)"
   ]
  },
  {
   "cell_type": "code",
   "execution_count": 44,
   "id": "a0581b9b",
   "metadata": {},
   "outputs": [
    {
     "data": {
      "text/plain": [
       "MannwhitneyuResult(statistic=4387897607.5, pvalue=0.0)"
      ]
     },
     "execution_count": 44,
     "metadata": {},
     "output_type": "execute_result"
    }
   ],
   "source": [
    "stats.mannwhitneyu(dep_delay_LGA,dep_delay_JFK)"
   ]
  },
  {
   "cell_type": "markdown",
   "id": "b67ecaf2",
   "metadata": {},
   "source": [
    "Тест Манна-Уитни показал тот же результат. Получается, что если попарно рассматривать выборки, то нет таких двух выборок, у которых равнялись бы медианы. Статистические различия в выборках существенны."
   ]
  },
  {
   "cell_type": "markdown",
   "id": "982122d1",
   "metadata": {},
   "source": [
    "Попробуем еще применить ANOVA тест или дисперсионный анализ, который проверят равенство средних значений для нескольких выборок (>2):<br>\n",
    "    \n",
    "$H_0: \\mu_1 = \\mu_2 = \\mu_2 $<br>\n",
    "$H_1$: хотя бы одно из $\\mu_i$ отличается<br>\n",
    "\n",
    "Для этого используем функцию `scipy.stats.f_oneway`."
   ]
  },
  {
   "cell_type": "code",
   "execution_count": 45,
   "id": "4bc49f01",
   "metadata": {},
   "outputs": [
    {
     "data": {
      "text/plain": [
       "F_onewayResult(statistic=890.4362610285875, pvalue=0.0)"
      ]
     },
     "execution_count": 45,
     "metadata": {},
     "output_type": "execute_result"
    }
   ],
   "source": [
    "stats.f_oneway(dep_delay_EWR,dep_delay_JFK,dep_delay_LGA)"
   ]
  },
  {
   "cell_type": "markdown",
   "id": "da435f9a",
   "metadata": {},
   "source": [
    "По результатам теста делаем вывод, что средние значения также отличаются во всех трех подвыборках."
   ]
  },
  {
   "cell_type": "markdown",
   "id": "33b75547",
   "metadata": {},
   "source": [
    "Попробуем также применить непараметрический аналог ANOVA, а именно критерий Крускала-Уоллиса. Он проверяет равны ли средние ранги в каждой подвыборке: <br>\n",
    "\n",
    "$H_0$: средние ранги в каждой группе равны <br>\n",
    "$H_1$: средние ранги не равны <br>\n",
    "\n",
    "Будем использовать функцию `scipy.stats.kruskal`."
   ]
  },
  {
   "cell_type": "code",
   "execution_count": 46,
   "id": "31ceb5f0",
   "metadata": {},
   "outputs": [
    {
     "data": {
      "text/plain": [
       "KruskalResult(statistic=5512.854214018314, pvalue=0.0)"
      ]
     },
     "execution_count": 46,
     "metadata": {},
     "output_type": "execute_result"
    }
   ],
   "source": [
    "stats.kruskal(dep_delay_EWR,dep_delay_JFK,dep_delay_LGA)"
   ]
  },
  {
   "cell_type": "markdown",
   "id": "f3ade06c",
   "metadata": {},
   "source": [
    "По результатам теста делаем вывод, что средние ранги также отличаются во всех трех подвыборках."
   ]
  },
  {
   "cell_type": "markdown",
   "id": "180b006f",
   "metadata": {},
   "source": [
    "Таким образом было выявлено, что статистические различия для времен задержек вылета из аэропортов EWR, LGA, JFK являются значимыми."
   ]
  },
  {
   "cell_type": "markdown",
   "id": "b0757697",
   "metadata": {},
   "source": [
    "### 7. Положительный диапазон времени задержки вылета"
   ]
  },
  {
   "cell_type": "markdown",
   "id": "a8b7954f",
   "metadata": {},
   "source": [
    "Исследуем распределение положительных задержек вылета. Я предполагаю, что это распределение будет иметь степенной вид:<br>\n",
    "$$ f(x) = \\frac{A}{{(x+B)}^C} $$"
   ]
  },
  {
   "cell_type": "code",
   "execution_count": 47,
   "id": "844cc4aa",
   "metadata": {},
   "outputs": [],
   "source": [
    "positive_dep_delay = data[dep_delay & (data['dep_delay']>0)]['dep_delay']"
   ]
  },
  {
   "cell_type": "code",
   "execution_count": 48,
   "id": "33e81c11",
   "metadata": {},
   "outputs": [],
   "source": [
    "xs = np.linspace(0.01,100,num=1000)\n",
    "\n",
    "a = 18\n",
    "b = 15\n",
    "c = 2\n",
    "approximate = a*(xs+b)**(-c)"
   ]
  },
  {
   "cell_type": "code",
   "execution_count": 49,
   "id": "2507f1c6",
   "metadata": {},
   "outputs": [
    {
     "data": {
      "text/plain": [
       "<matplotlib.legend.Legend at 0x255b66b0f10>"
      ]
     },
     "execution_count": 49,
     "metadata": {},
     "output_type": "execute_result"
    },
    {
     "data": {
      "image/png": "[encoded data removed]",
      "text/plain": [
       "<Figure size 648x504 with 1 Axes>"
      ]
     },
     "metadata": {
      "needs_background": "light"
     },
     "output_type": "display_data"
    }
   ],
   "source": [
    "plt.figure(figsize=(9, 7))\n",
    "\n",
    "plt.hist(positive_dep_delay,density=True,bins=50,label='Исходные данные')\n",
    "plt.plot(xs,approximate,label='Аппроксимация')\n",
    "\n",
    "plt.ylim([0,0.07])\n",
    "plt.xlabel(\"Время задержки вылета, мин\")\n",
    "plt.ylabel(\"Нормированнное количество рейсов\")\n",
    "plt.title(\"Распределение рейсов по времени задержки вылета и его аппроксимация\")\n",
    "plt.legend()"
   ]
  },
  {
   "cell_type": "markdown",
   "id": "3fb93025",
   "metadata": {},
   "source": [
    "Я попыталась вручную подобрать параметры этого распределения так, чтобы оно приблизительно по форме совпадало с нормированной гистограммой. Получились значения А = 18, B = 15, C = 2."
   ]
  },
  {
   "cell_type": "markdown",
   "id": "4fc5f1c6",
   "metadata": {},
   "source": [
    "### 8. Линейная регрессия для положительных времен задержки вылета"
   ]
  },
  {
   "cell_type": "markdown",
   "id": "7d2d8f68",
   "metadata": {},
   "source": [
    "Вновь рассмотрим те рейсы, для которых задержка вылета положительна, и рассмотрим статистику задержек вылета в зависимости от месяца."
   ]
  },
  {
   "cell_type": "markdown",
   "id": "9dac0482",
   "metadata": {},
   "source": [
    "Построим в одних осях графики числа рейсов в месяц и среднего времени задержки в месяц:"
   ]
  },
  {
   "cell_type": "code",
   "execution_count": 50,
   "id": "e3270718",
   "metadata": {},
   "outputs": [],
   "source": [
    "x = data['month'].unique()"
   ]
  },
  {
   "cell_type": "code",
   "execution_count": 51,
   "id": "8ee0d02e",
   "metadata": {},
   "outputs": [],
   "source": [
    "count_month = []\n",
    "mean_month = []\n",
    "\n",
    "for i in x:\n",
    "    count = data[dep_delay & (data['dep_delay']>0) & (data['month']==i)]['dep_delay'].count()\n",
    "    mean = data[dep_delay & (data['dep_delay']>0) & (data['month']==i)]['dep_delay'].mean()\n",
    "    count_month.append(count)\n",
    "    mean_month.append(mean)"
   ]
  },
  {
   "cell_type": "code",
   "execution_count": 52,
   "id": "2f13c880",
   "metadata": {},
   "outputs": [
    {
     "data": {
      "text/plain": [
       "<matplotlib.legend.Legend at 0x255b629ccd0>"
      ]
     },
     "execution_count": 52,
     "metadata": {},
     "output_type": "execute_result"
    },
    {
     "data": {
      "image/png": "[encoded data removed]",
      "text/plain": [
       "<Figure size 648x504 with 2 Axes>"
      ]
     },
     "metadata": {
      "needs_background": "light"
     },
     "output_type": "display_data"
    }
   ],
   "source": [
    "fig, ax = plt.subplots(figsize=(9, 7))\n",
    "ax1 = ax.twinx()\n",
    "ax.plot(x,count_month,marker='o',color='blue',linestyle='none',label='Количество рейсов')\n",
    "ax1.plot(x,mean_month,marker='o',color='red',linestyle='none',label='Среднее время задержки')\n",
    "\n",
    "ax.set_ylabel('Число рейсов')\n",
    "ax1.set_ylabel('Время задержки вылета, мин')\n",
    "ax.set_ylim([6000,13000])\n",
    "\n",
    "plt.xlabel(\"Номер месяца\")\n",
    "plt.xticks(x)\n",
    "plt.title(\"Число рейсов в месяц и среднее время задержки вылета в месяц\")\n",
    "ax.legend(loc='upper left')\n",
    "ax1.legend(loc='upper right')"
   ]
  },
  {
   "cell_type": "markdown",
   "id": "71b9d567",
   "metadata": {},
   "source": [
    "Проверим, есть ли линейная взаимосвязь между числом рейсов в месяц и средним временем задержки вылета в месяц. Применим метод `linregress` из модуля `scipy.stats` для оценки взаимосвязи и найдем коэффициент корреляции:"
   ]
  },
  {
   "cell_type": "code",
   "execution_count": 53,
   "id": "ee1f9409",
   "metadata": {},
   "outputs": [
    {
     "name": "stdout",
     "output_type": "stream",
     "text": [
      "Значение коэффициента Пирсона: 0.7362458189529977\n",
      "А (slope): 0.0010557293442535504\n",
      "B (intercept): 14.175221570583927\n"
     ]
    }
   ],
   "source": [
    "regression = stats.linregress(count_month,mean_month)\n",
    "print('Значение коэффициента Пирсона:',regression.rvalue)\n",
    "print('А (slope):',regression.slope)\n",
    "print('B (intercept):',regression.intercept)"
   ]
  },
  {
   "cell_type": "code",
   "execution_count": 54,
   "id": "9e53dd12",
   "metadata": {},
   "outputs": [
    {
     "data": {
      "text/plain": [
       "LinregressResult(slope=0.0010557293442535504, intercept=14.175221570583927, rvalue=0.7362458189529977, pvalue=0.006326444138401353, stderr=0.00030685629314680587, intercept_stderr=2.961952734021946)"
      ]
     },
     "execution_count": 54,
     "metadata": {},
     "output_type": "execute_result"
    }
   ],
   "source": [
    "regression"
   ]
  },
  {
   "cell_type": "markdown",
   "id": "b654bc47",
   "metadata": {},
   "source": [
    "Судя по параметрам линейной регрессии, есть слабая линейная зависимость между параметрами. Однако p-value << 0.05, поэтому по-хорошему бы сказать, что линейная зависимость отсутствует."
   ]
  },
  {
   "cell_type": "markdown",
   "id": "2fc8b51a",
   "metadata": {},
   "source": [
    "Уравнение регрессии:<br>\n",
    "$$ y=Ax+B $$ \n",
    "$ A = 0.00106,  B = 14.17522  $"
   ]
  },
  {
   "cell_type": "markdown",
   "id": "d232de12",
   "metadata": {},
   "source": [
    "Построим точечную диаграмму, показывающую зависимость между средним значением времени вылета в месяц и числом рейсов в месяц, и нанесем на нее линию регрессии с полученными параметрами: "
   ]
  },
  {
   "cell_type": "code",
   "execution_count": 55,
   "id": "cb7a01d1",
   "metadata": {},
   "outputs": [],
   "source": [
    "y=[]\n",
    "for i in count_month:\n",
    "    y_pred=regression.slope*i+regression.intercept\n",
    "    y.append(y_pred)"
   ]
  },
  {
   "cell_type": "code",
   "execution_count": 56,
   "id": "bdd4af4a",
   "metadata": {},
   "outputs": [
    {
     "data": {
      "text/plain": [
       "<matplotlib.legend.Legend at 0x255b60ed2e0>"
      ]
     },
     "execution_count": 56,
     "metadata": {},
     "output_type": "execute_result"
    },
    {
     "data": {
      "image/png": "[encoded data removed]",
      "text/plain": [
       "<Figure size 648x504 with 1 Axes>"
      ]
     },
     "metadata": {
      "needs_background": "light"
     },
     "output_type": "display_data"
    }
   ],
   "source": [
    "plt.figure(figsize=(9, 7))\n",
    "\n",
    "plt.scatter(count_month,mean_month,label='Исходные данные')\n",
    "plt.plot(count_month,y,color = 'r',ls='-',label='Уравнение линейной регрессии')\n",
    "\n",
    "plt.xlabel(\"Число рейсов\")\n",
    "plt.ylabel(\"Среднее время задержки вылета\")\n",
    "plt.title(\"Зависимость среднего времени задержки вылета в месяц\\n от числа рейсов в месяц\")\n",
    "plt.legend()"
   ]
  },
  {
   "cell_type": "markdown",
   "id": "3c145828",
   "metadata": {},
   "source": [
    "### 9. Зависимость среднего времени задержки от часа вылета"
   ]
  },
  {
   "cell_type": "markdown",
   "id": "087e5903",
   "metadata": {},
   "source": [
    "Рассмотрим среднее время задержки в зависимости от часа вылета:"
   ]
  },
  {
   "cell_type": "code",
   "execution_count": 57,
   "id": "08df7875",
   "metadata": {},
   "outputs": [],
   "source": [
    "hours = [0,1,2,3,4,5,6,7,8,9,10,11,12,13,14,15,16,17,18,19,20,21,22,23]"
   ]
  },
  {
   "cell_type": "code",
   "execution_count": 58,
   "id": "01134ce4",
   "metadata": {},
   "outputs": [],
   "source": [
    "mean_hour = []\n",
    "\n",
    "for i in hours:\n",
    "    mean_hour.append(data[dep_delay&(data['dep_time']>=i*100)\n",
    "                     &(data['dep_time']<(i+1)*100)]['dep_delay'].mean())\n"
   ]
  },
  {
   "cell_type": "code",
   "execution_count": 59,
   "id": "67892a2f",
   "metadata": {},
   "outputs": [],
   "source": [
    "mean_hour[0]=data[dep_delay&((data['dep_time']>=0)&(data['dep_time']<100)\n",
    "                             |(data['dep_time']==2400))]['dep_delay'].mean()"
   ]
  },
  {
   "cell_type": "code",
   "execution_count": 60,
   "id": "56377f55",
   "metadata": {},
   "outputs": [
    {
     "data": {
      "text/plain": [
       "[34.932853717026376,\n",
       " 78.97297297297297,\n",
       " nan,\n",
       " nan,\n",
       " -5.554098360655738,\n",
       " -4.353990870106515,\n",
       " -1.8421541318477253,\n",
       " -0.21314927468413664,\n",
       " 0.27299431579750505,\n",
       " 2.5720970257623836,\n",
       " 2.7585921588594706,\n",
       " 2.306780696395846,\n",
       " 3.972993679371768,\n",
       " 5.488686131386861,\n",
       " 4.980385288966725,\n",
       " 7.21590806669671,\n",
       " 9.556131420638593,\n",
       " 10.723096615151228,\n",
       " 10.402471576866041,\n",
       " 11.56961752171333,\n",
       " 14.558421124640853,\n",
       " 20.038353196099674,\n",
       " 29.73718757889422,\n",
       " 28.411969380654142]"
      ]
     },
     "execution_count": 60,
     "metadata": {},
     "output_type": "execute_result"
    }
   ],
   "source": [
    "mean_hour"
   ]
  },
  {
   "cell_type": "markdown",
   "id": "a1edbd0a",
   "metadata": {},
   "source": [
    "Рассмотрим долю рейсов, для которых задержка >0, в зависимости от часа вылета. Для этого подсчитаем для каждого часа число рейсов с задержкой >0, общее число рейсов и долю рейсов с задержкой вылета >0."
   ]
  },
  {
   "cell_type": "code",
   "execution_count": 61,
   "id": "febf38e3",
   "metadata": {},
   "outputs": [],
   "source": [
    "count_hour_pos = []\n",
    "\n",
    "for i in hours:\n",
    "    count_hour_pos.append(data[dep_delay&(data['dep_delay']>0)&(data['dep_time']>=i*100)\n",
    "                           &(data['dep_time']<(i+1)*100)]['dep_delay'].count())"
   ]
  },
  {
   "cell_type": "code",
   "execution_count": 62,
   "id": "fdb205cb",
   "metadata": {},
   "outputs": [],
   "source": [
    "count_hour_pos[0]=count_hour_pos[0]+data[dep_delay & (data['dep_delay']>0)&(data['dep_time']==2400)]['dep_delay'].count()"
   ]
  },
  {
   "cell_type": "code",
   "execution_count": 63,
   "id": "59df3cc6",
   "metadata": {},
   "outputs": [
    {
     "data": {
      "text/plain": [
       "[417,\n",
       " 37,\n",
       " 0,\n",
       " 0,\n",
       " 0,\n",
       " 366,\n",
       " 4104,\n",
       " 4406,\n",
       " 6019,\n",
       " 5268,\n",
       " 4674,\n",
       " 4454,\n",
       " 5280,\n",
       " 6634,\n",
       " 7110,\n",
       " 9967,\n",
       " 9963,\n",
       " 10542,\n",
       " 9122,\n",
       " 9217,\n",
       " 7560,\n",
       " 5730,\n",
       " 2598,\n",
       " 867]"
      ]
     },
     "execution_count": 63,
     "metadata": {},
     "output_type": "execute_result"
    }
   ],
   "source": [
    "count_hour_pos"
   ]
  },
  {
   "cell_type": "code",
   "execution_count": 64,
   "id": "d6f995a7",
   "metadata": {},
   "outputs": [],
   "source": [
    "count_hour_all = []\n",
    "\n",
    "for i in hours:\n",
    "    count_hour_all.append(data[dep_delay&(data['dep_time']>=i*100)\n",
    "                          &(data['dep_time']<(i+1)*100)]['dep_delay'].count())"
   ]
  },
  {
   "cell_type": "code",
   "execution_count": 65,
   "id": "e5582459",
   "metadata": {},
   "outputs": [],
   "source": [
    "count_hour_all[0]=count_hour_all[0]+data[dep_delay&(data['dep_time']==2400)]['dep_delay'].count()"
   ]
  },
  {
   "cell_type": "code",
   "execution_count": 66,
   "id": "c8f2ed48",
   "metadata": {},
   "outputs": [
    {
     "data": {
      "text/plain": [
       "[417,\n",
       " 37,\n",
       " 0,\n",
       " 0,\n",
       " 305,\n",
       " 7229,\n",
       " 22617,\n",
       " 21370,\n",
       " 26213,\n",
       " 18593,\n",
       " 15712,\n",
       " 16370,\n",
       " 15663,\n",
       " 16440,\n",
       " 19985,\n",
       " 22190,\n",
       " 21610,\n",
       " 21094,\n",
       " 20230,\n",
       " 18537,\n",
       " 14618,\n",
       " 9230,\n",
       " 3961,\n",
       " 1437]"
      ]
     },
     "execution_count": 66,
     "metadata": {},
     "output_type": "execute_result"
    }
   ],
   "source": [
    "count_hour_all"
   ]
  },
  {
   "cell_type": "code",
   "execution_count": 67,
   "id": "cf2e6188",
   "metadata": {},
   "outputs": [
    {
     "name": "stderr",
     "output_type": "stream",
     "text": [
      "C:\\Users\\khmel\\AppData\\Local\\Temp\\ipykernel_13628\\3941962477.py:4: RuntimeWarning: invalid value encountered in longlong_scalars\n",
      "  share = count_hour_pos[i]/count_hour_all[i]\n"
     ]
    }
   ],
   "source": [
    "share_hour_pos=[]\n",
    "\n",
    "for i in range(0,len(count_hour_all)):\n",
    "    share = count_hour_pos[i]/count_hour_all[i]\n",
    "    share_hour_pos.append(share)"
   ]
  },
  {
   "cell_type": "code",
   "execution_count": 68,
   "id": "3a37a511",
   "metadata": {},
   "outputs": [
    {
     "data": {
      "text/plain": [
       "[1.0,\n",
       " 1.0,\n",
       " nan,\n",
       " nan,\n",
       " 0.0,\n",
       " 0.05062940932355789,\n",
       " 0.18145642658177477,\n",
       " 0.20617688348151614,\n",
       " 0.22961889138976843,\n",
       " 0.2833324369386328,\n",
       " 0.297479633401222,\n",
       " 0.27208307880268784,\n",
       " 0.33710017238076995,\n",
       " 0.40352798053527983,\n",
       " 0.3557668251188391,\n",
       " 0.4491662911221271,\n",
       " 0.46103655714946784,\n",
       " 0.49976296577225754,\n",
       " 0.450914483440435,\n",
       " 0.4972217726708745,\n",
       " 0.5171706115747708,\n",
       " 0.6208017334777898,\n",
       " 0.6558949760161575,\n",
       " 0.6033402922755741]"
      ]
     },
     "execution_count": 68,
     "metadata": {},
     "output_type": "execute_result"
    }
   ],
   "source": [
    "share_hour_pos"
   ]
  },
  {
   "cell_type": "markdown",
   "id": "ae57a3a7",
   "metadata": {},
   "source": [
    "Отобразим полученные данные на графиках:"
   ]
  },
  {
   "cell_type": "code",
   "execution_count": 69,
   "id": "bf2197b0",
   "metadata": {},
   "outputs": [
    {
     "data": {
      "image/png": "[encoded data removed]",
      "text/plain": [
       "<Figure size 1008x504 with 2 Axes>"
      ]
     },
     "metadata": {
      "needs_background": "light"
     },
     "output_type": "display_data"
    }
   ],
   "source": [
    "plt.figure(figsize=(14, 7))\n",
    "\n",
    "plt.subplot(1,2,1)\n",
    "plt.plot(hours,mean_hour,marker='o',linestyle='none')\n",
    "plt.xticks(hours)\n",
    "plt.xlabel('Час вылета')\n",
    "plt.ylabel('Среднее время задержки вылета, мин')\n",
    "plt.title('Cреднее время задержки в зависимости от часа вылета')\n",
    "\n",
    "plt.subplot(1,2,2)\n",
    "plt.plot(hours,share_hour_pos,marker='o',linestyle='none')\n",
    "plt.xticks(hours)\n",
    "plt.xlabel('Час вылета')\n",
    "plt.ylabel('Доля рейсов, для которых задержка > 0')\n",
    "plt.title('Доля рейсов, для которых задержка > 0, в зависимости от часа вылета')\n",
    "\n",
    "plt.tight_layout()"
   ]
  },
  {
   "cell_type": "markdown",
   "id": "7b26a482",
   "metadata": {},
   "source": [
    "Таким образом, по графикам можно сделать несколько выводов:\n",
    "* для часов 00 и 01 наблюдается, что задержка вылета всех рейсов в эти часы положительна и, соответственно, средние времена задержек в эти часы самые большие;\n",
    "* для часов 02 и 03 рейсов не наблюдается;\n",
    "* после 4 часа наблюдаются приблизительно линейные возрастающие зависимости среднего времени задержки и доли рейсов, для которых задержка >0, от часа вылета;\n",
    "* чем больше доля рейсов с положительной задержкой времени вылета, тем больше среднее время задержки."
   ]
  },
  {
   "cell_type": "markdown",
   "id": "a381e7a9",
   "metadata": {},
   "source": [
    "### 10. Разделение авиакомпаний на пунктуальные и непунктуальные"
   ]
  },
  {
   "cell_type": "markdown",
   "id": "a690cbe9",
   "metadata": {},
   "source": [
    "Попробуем разделить все авиакомпании на пункутальные и непунктуальные."
   ]
  },
  {
   "cell_type": "markdown",
   "id": "ffa2739a",
   "metadata": {},
   "source": [
    "Пусть рейс вылетает \"вовремя\", если модуль задержки времени вылета < 10 мин. Для каждой авиакомпании посмотрим долю рейсов, которые вылетают \"вовремя\"."
   ]
  },
  {
   "cell_type": "code",
   "execution_count": 70,
   "id": "01e05500",
   "metadata": {},
   "outputs": [
    {
     "data": {
      "text/plain": [
       "array(['UA', 'AA', 'B6', 'DL', 'EV', 'MQ', 'US', 'WN', 'VX', 'FL', 'AS',\n",
       "       '9E', 'F9', 'HA', 'YV', 'OO'], dtype=object)"
      ]
     },
     "execution_count": 70,
     "metadata": {},
     "output_type": "execute_result"
    }
   ],
   "source": [
    "data['carrier'].unique()"
   ]
  },
  {
   "cell_type": "code",
   "execution_count": 71,
   "id": "ea95869c",
   "metadata": {},
   "outputs": [],
   "source": [
    "ontime = []\n",
    "\n",
    "for x in data['carrier'].unique():\n",
    "    flihgt_ontime = data[dep_delay&(data['carrier']==x)&(np.abs(data['dep_delay'])<=10)]['dep_delay'].count()\n",
    "    flight_all = data[dep_delay&(data['carrier']==x)]['dep_delay'].count()\n",
    "    share_ontime = flihgt_ontime/flight_all\n",
    "    ontime.append(share_ontime)"
   ]
  },
  {
   "cell_type": "code",
   "execution_count": 72,
   "id": "2a32c7db",
   "metadata": {},
   "outputs": [
    {
     "data": {
      "text/plain": [
       "[0.7599026729165921,\n",
       " 0.8173148417547603,\n",
       " 0.7421263267791891,\n",
       " 0.8207008436080467,\n",
       " 0.6872272574689493,\n",
       " 0.7359787921464668,\n",
       " 0.8405559259449202,\n",
       " 0.7120921305182342,\n",
       " 0.8123593206466134,\n",
       " 0.6789420823568798,\n",
       " 0.7682215743440233,\n",
       " 0.7216577375454154,\n",
       " 0.675,\n",
       " 0.8982035928143712,\n",
       " 0.6418786692759295,\n",
       " 0.6666666666666666]"
      ]
     },
     "execution_count": 72,
     "metadata": {},
     "output_type": "execute_result"
    }
   ],
   "source": [
    "ontime"
   ]
  },
  {
   "cell_type": "markdown",
   "id": "a85ea83f",
   "metadata": {},
   "source": [
    "Будем считать, что авиакомпания является пунктуальной, если больше 75% рейсов прилетают \"вовремя\"."
   ]
  },
  {
   "cell_type": "code",
   "execution_count": 73,
   "id": "27bfef49",
   "metadata": {},
   "outputs": [],
   "source": [
    "punctuality = []\n",
    "\n",
    "for x in ontime:\n",
    "    if x>=0.75:\n",
    "        punctuality.append('punctual')\n",
    "    else:\n",
    "        punctuality.append('unpunctual')"
   ]
  },
  {
   "cell_type": "markdown",
   "id": "45413821",
   "metadata": {},
   "source": [
    "Посмотрим, какие из авиакомпаний являются пунктуальными:"
   ]
  },
  {
   "cell_type": "code",
   "execution_count": 74,
   "id": "ef676087",
   "metadata": {},
   "outputs": [],
   "source": [
    "df = pd.DataFrame({'carrier':data['carrier'].unique(),'share on time':ontime,'punctuality':punctuality})"
   ]
  },
  {
   "cell_type": "code",
   "execution_count": 75,
   "id": "d826c328",
   "metadata": {},
   "outputs": [
    {
     "data": {
      "text/html": [
       "<div>\n",
       "<style scoped>\n",
       "    .dataframe tbody tr th:only-of-type {\n",
       "        vertical-align: middle;\n",
       "    }\n",
       "\n",
       "    .dataframe tbody tr th {\n",
       "        vertical-align: top;\n",
       "    }\n",
       "\n",
       "    .dataframe thead th {\n",
       "        text-align: right;\n",
       "    }\n",
       "</style>\n",
       "<table border=\"1\" class=\"dataframe\">\n",
       "  <thead>\n",
       "    <tr style=\"text-align: right;\">\n",
       "      <th></th>\n",
       "      <th>carrier</th>\n",
       "      <th>share on time</th>\n",
       "      <th>punctuality</th>\n",
       "    </tr>\n",
       "  </thead>\n",
       "  <tbody>\n",
       "    <tr>\n",
       "      <th>0</th>\n",
       "      <td>UA</td>\n",
       "      <td>0.759903</td>\n",
       "      <td>punctual</td>\n",
       "    </tr>\n",
       "    <tr>\n",
       "      <th>1</th>\n",
       "      <td>AA</td>\n",
       "      <td>0.817315</td>\n",
       "      <td>punctual</td>\n",
       "    </tr>\n",
       "    <tr>\n",
       "      <th>2</th>\n",
       "      <td>B6</td>\n",
       "      <td>0.742126</td>\n",
       "      <td>unpunctual</td>\n",
       "    </tr>\n",
       "    <tr>\n",
       "      <th>3</th>\n",
       "      <td>DL</td>\n",
       "      <td>0.820701</td>\n",
       "      <td>punctual</td>\n",
       "    </tr>\n",
       "    <tr>\n",
       "      <th>4</th>\n",
       "      <td>EV</td>\n",
       "      <td>0.687227</td>\n",
       "      <td>unpunctual</td>\n",
       "    </tr>\n",
       "    <tr>\n",
       "      <th>5</th>\n",
       "      <td>MQ</td>\n",
       "      <td>0.735979</td>\n",
       "      <td>unpunctual</td>\n",
       "    </tr>\n",
       "    <tr>\n",
       "      <th>6</th>\n",
       "      <td>US</td>\n",
       "      <td>0.840556</td>\n",
       "      <td>punctual</td>\n",
       "    </tr>\n",
       "    <tr>\n",
       "      <th>7</th>\n",
       "      <td>WN</td>\n",
       "      <td>0.712092</td>\n",
       "      <td>unpunctual</td>\n",
       "    </tr>\n",
       "    <tr>\n",
       "      <th>8</th>\n",
       "      <td>VX</td>\n",
       "      <td>0.812359</td>\n",
       "      <td>punctual</td>\n",
       "    </tr>\n",
       "    <tr>\n",
       "      <th>9</th>\n",
       "      <td>FL</td>\n",
       "      <td>0.678942</td>\n",
       "      <td>unpunctual</td>\n",
       "    </tr>\n",
       "    <tr>\n",
       "      <th>10</th>\n",
       "      <td>AS</td>\n",
       "      <td>0.768222</td>\n",
       "      <td>punctual</td>\n",
       "    </tr>\n",
       "    <tr>\n",
       "      <th>11</th>\n",
       "      <td>9E</td>\n",
       "      <td>0.721658</td>\n",
       "      <td>unpunctual</td>\n",
       "    </tr>\n",
       "    <tr>\n",
       "      <th>12</th>\n",
       "      <td>F9</td>\n",
       "      <td>0.675000</td>\n",
       "      <td>unpunctual</td>\n",
       "    </tr>\n",
       "    <tr>\n",
       "      <th>13</th>\n",
       "      <td>HA</td>\n",
       "      <td>0.898204</td>\n",
       "      <td>punctual</td>\n",
       "    </tr>\n",
       "    <tr>\n",
       "      <th>14</th>\n",
       "      <td>YV</td>\n",
       "      <td>0.641879</td>\n",
       "      <td>unpunctual</td>\n",
       "    </tr>\n",
       "    <tr>\n",
       "      <th>15</th>\n",
       "      <td>OO</td>\n",
       "      <td>0.666667</td>\n",
       "      <td>unpunctual</td>\n",
       "    </tr>\n",
       "  </tbody>\n",
       "</table>\n",
       "</div>"
      ],
      "text/plain": [
       "   carrier  share on time punctuality\n",
       "0       UA       0.759903    punctual\n",
       "1       AA       0.817315    punctual\n",
       "2       B6       0.742126  unpunctual\n",
       "3       DL       0.820701    punctual\n",
       "4       EV       0.687227  unpunctual\n",
       "5       MQ       0.735979  unpunctual\n",
       "6       US       0.840556    punctual\n",
       "7       WN       0.712092  unpunctual\n",
       "8       VX       0.812359    punctual\n",
       "9       FL       0.678942  unpunctual\n",
       "10      AS       0.768222    punctual\n",
       "11      9E       0.721658  unpunctual\n",
       "12      F9       0.675000  unpunctual\n",
       "13      HA       0.898204    punctual\n",
       "14      YV       0.641879  unpunctual\n",
       "15      OO       0.666667  unpunctual"
      ]
     },
     "execution_count": 75,
     "metadata": {},
     "output_type": "execute_result"
    }
   ],
   "source": [
    "df"
   ]
  },
  {
   "cell_type": "markdown",
   "id": "1bbf85e2",
   "metadata": {},
   "source": [
    "Посмотрим, есть ли связь между пунктуальнотью авиакомпании и дальностью перелета. Для этого посчитаем среднее расстояние перелета для каждой авиакомпании."
   ]
  },
  {
   "cell_type": "code",
   "execution_count": 76,
   "id": "3feb0124",
   "metadata": {},
   "outputs": [],
   "source": [
    "mean_distance = []\n",
    "\n",
    "for x in data['carrier'].unique():\n",
    "    distance = data[dep_delay&(data['carrier']==x)]['distance'].mean()\n",
    "    mean_distance.append(distance)"
   ]
  },
  {
   "cell_type": "code",
   "execution_count": 77,
   "id": "3e52a953",
   "metadata": {},
   "outputs": [
    {
     "data": {
      "text/plain": [
       "[1533.301266683365,\n",
       " 1340.7431222319206,\n",
       " 1073.1726117974595,\n",
       " 1241.8167856370321,\n",
       " 562.3380328969453,\n",
       " 570.9272636898352,\n",
       " 559.0078978409149,\n",
       " 998.3182690629908,\n",
       " 2497.70349907919,\n",
       " 666.6116504854369,\n",
       " 2402.0,\n",
       " 529.9597881642958,\n",
       " 1620.0,\n",
       " 4983.0,\n",
       " 374.24657534246575,\n",
       " 513.4074074074074]"
      ]
     },
     "execution_count": 77,
     "metadata": {},
     "output_type": "execute_result"
    }
   ],
   "source": [
    "mean_distance"
   ]
  },
  {
   "cell_type": "code",
   "execution_count": 78,
   "id": "f8895c7e",
   "metadata": {},
   "outputs": [],
   "source": [
    "df['mean distance']=mean_distance"
   ]
  },
  {
   "cell_type": "code",
   "execution_count": 79,
   "id": "eade60fe",
   "metadata": {},
   "outputs": [
    {
     "data": {
      "text/html": [
       "<div>\n",
       "<style scoped>\n",
       "    .dataframe tbody tr th:only-of-type {\n",
       "        vertical-align: middle;\n",
       "    }\n",
       "\n",
       "    .dataframe tbody tr th {\n",
       "        vertical-align: top;\n",
       "    }\n",
       "\n",
       "    .dataframe thead th {\n",
       "        text-align: right;\n",
       "    }\n",
       "</style>\n",
       "<table border=\"1\" class=\"dataframe\">\n",
       "  <thead>\n",
       "    <tr style=\"text-align: right;\">\n",
       "      <th></th>\n",
       "      <th>carrier</th>\n",
       "      <th>share on time</th>\n",
       "      <th>punctuality</th>\n",
       "      <th>mean distance</th>\n",
       "    </tr>\n",
       "  </thead>\n",
       "  <tbody>\n",
       "    <tr>\n",
       "      <th>0</th>\n",
       "      <td>UA</td>\n",
       "      <td>0.759903</td>\n",
       "      <td>punctual</td>\n",
       "      <td>1533.301267</td>\n",
       "    </tr>\n",
       "    <tr>\n",
       "      <th>1</th>\n",
       "      <td>AA</td>\n",
       "      <td>0.817315</td>\n",
       "      <td>punctual</td>\n",
       "      <td>1340.743122</td>\n",
       "    </tr>\n",
       "    <tr>\n",
       "      <th>2</th>\n",
       "      <td>B6</td>\n",
       "      <td>0.742126</td>\n",
       "      <td>unpunctual</td>\n",
       "      <td>1073.172612</td>\n",
       "    </tr>\n",
       "    <tr>\n",
       "      <th>3</th>\n",
       "      <td>DL</td>\n",
       "      <td>0.820701</td>\n",
       "      <td>punctual</td>\n",
       "      <td>1241.816786</td>\n",
       "    </tr>\n",
       "    <tr>\n",
       "      <th>4</th>\n",
       "      <td>EV</td>\n",
       "      <td>0.687227</td>\n",
       "      <td>unpunctual</td>\n",
       "      <td>562.338033</td>\n",
       "    </tr>\n",
       "    <tr>\n",
       "      <th>5</th>\n",
       "      <td>MQ</td>\n",
       "      <td>0.735979</td>\n",
       "      <td>unpunctual</td>\n",
       "      <td>570.927264</td>\n",
       "    </tr>\n",
       "    <tr>\n",
       "      <th>6</th>\n",
       "      <td>US</td>\n",
       "      <td>0.840556</td>\n",
       "      <td>punctual</td>\n",
       "      <td>559.007898</td>\n",
       "    </tr>\n",
       "    <tr>\n",
       "      <th>7</th>\n",
       "      <td>WN</td>\n",
       "      <td>0.712092</td>\n",
       "      <td>unpunctual</td>\n",
       "      <td>998.318269</td>\n",
       "    </tr>\n",
       "    <tr>\n",
       "      <th>8</th>\n",
       "      <td>VX</td>\n",
       "      <td>0.812359</td>\n",
       "      <td>punctual</td>\n",
       "      <td>2497.703499</td>\n",
       "    </tr>\n",
       "    <tr>\n",
       "      <th>9</th>\n",
       "      <td>FL</td>\n",
       "      <td>0.678942</td>\n",
       "      <td>unpunctual</td>\n",
       "      <td>666.611650</td>\n",
       "    </tr>\n",
       "    <tr>\n",
       "      <th>10</th>\n",
       "      <td>AS</td>\n",
       "      <td>0.768222</td>\n",
       "      <td>punctual</td>\n",
       "      <td>2402.000000</td>\n",
       "    </tr>\n",
       "    <tr>\n",
       "      <th>11</th>\n",
       "      <td>9E</td>\n",
       "      <td>0.721658</td>\n",
       "      <td>unpunctual</td>\n",
       "      <td>529.959788</td>\n",
       "    </tr>\n",
       "    <tr>\n",
       "      <th>12</th>\n",
       "      <td>F9</td>\n",
       "      <td>0.675000</td>\n",
       "      <td>unpunctual</td>\n",
       "      <td>1620.000000</td>\n",
       "    </tr>\n",
       "    <tr>\n",
       "      <th>13</th>\n",
       "      <td>HA</td>\n",
       "      <td>0.898204</td>\n",
       "      <td>punctual</td>\n",
       "      <td>4983.000000</td>\n",
       "    </tr>\n",
       "    <tr>\n",
       "      <th>14</th>\n",
       "      <td>YV</td>\n",
       "      <td>0.641879</td>\n",
       "      <td>unpunctual</td>\n",
       "      <td>374.246575</td>\n",
       "    </tr>\n",
       "    <tr>\n",
       "      <th>15</th>\n",
       "      <td>OO</td>\n",
       "      <td>0.666667</td>\n",
       "      <td>unpunctual</td>\n",
       "      <td>513.407407</td>\n",
       "    </tr>\n",
       "  </tbody>\n",
       "</table>\n",
       "</div>"
      ],
      "text/plain": [
       "   carrier  share on time punctuality  mean distance\n",
       "0       UA       0.759903    punctual    1533.301267\n",
       "1       AA       0.817315    punctual    1340.743122\n",
       "2       B6       0.742126  unpunctual    1073.172612\n",
       "3       DL       0.820701    punctual    1241.816786\n",
       "4       EV       0.687227  unpunctual     562.338033\n",
       "5       MQ       0.735979  unpunctual     570.927264\n",
       "6       US       0.840556    punctual     559.007898\n",
       "7       WN       0.712092  unpunctual     998.318269\n",
       "8       VX       0.812359    punctual    2497.703499\n",
       "9       FL       0.678942  unpunctual     666.611650\n",
       "10      AS       0.768222    punctual    2402.000000\n",
       "11      9E       0.721658  unpunctual     529.959788\n",
       "12      F9       0.675000  unpunctual    1620.000000\n",
       "13      HA       0.898204    punctual    4983.000000\n",
       "14      YV       0.641879  unpunctual     374.246575\n",
       "15      OO       0.666667  unpunctual     513.407407"
      ]
     },
     "execution_count": 79,
     "metadata": {},
     "output_type": "execute_result"
    }
   ],
   "source": [
    "df"
   ]
  },
  {
   "cell_type": "markdown",
   "id": "eb5b829c",
   "metadata": {},
   "source": [
    "Я бы сказала, что в основном пунктуальными являются авиакомпании, летающие на дальние дистанции (с большим значением среднего расстояния перелета, >1200 км). Исключение составляют авиакомпании US и F9."
   ]
  },
  {
   "cell_type": "code",
   "execution_count": null,
   "id": "d2a72d2a",
   "metadata": {},
   "outputs": [],
   "source": []
  }
 ],
 "metadata": {
  "kernelspec": {
   "display_name": "Python 3 (ipykernel)",
   "language": "python",
   "name": "python3"
  },
  "language_info": {
   "codemirror_mode": {
    "name": "ipython",
    "version": 3
   },
   "file_extension": ".py",
   "mimetype": "text/x-python",
   "name": "python",
   "nbconvert_exporter": "python",
   "pygments_lexer": "ipython3",
   "version": "3.9.12"
  }
 },
 "nbformat": 4,
 "nbformat_minor": 5
}
